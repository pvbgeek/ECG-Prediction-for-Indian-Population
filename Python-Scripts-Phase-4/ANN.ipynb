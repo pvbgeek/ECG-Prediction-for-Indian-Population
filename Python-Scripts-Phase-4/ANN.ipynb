{
 "cells": [
  {
   "cell_type": "code",
   "execution_count": 1,
   "id": "b345c27d",
   "metadata": {},
   "outputs": [],
   "source": [
    "import numpy as np\n",
    "import pandas as pd"
   ]
  },
  {
   "cell_type": "code",
   "execution_count": 2,
   "id": "23a0b740",
   "metadata": {},
   "outputs": [],
   "source": [
    "import tensorflow as tf"
   ]
  },
  {
   "cell_type": "code",
   "execution_count": 3,
   "id": "885d6d88",
   "metadata": {},
   "outputs": [],
   "source": [
    "dataset = pd.read_csv('ECG_NAGPUR-4.csv')\n",
    "X = dataset.iloc[:,:-1].values\n",
    "y = dataset.iloc[:, -1].values"
   ]
  },
  {
   "cell_type": "code",
   "execution_count": 4,
   "id": "d3c43eda",
   "metadata": {},
   "outputs": [
    {
     "name": "stdout",
     "output_type": "stream",
     "text": [
      "[[0.40677966 0.4039548  0.40112994 ... 0.71186441 0.70338983 0.69774011]\n",
      " [0.71125265 0.70912951 0.71125265 ... 0.91932059 0.92569002 0.92569002]\n",
      " [0.43808256 0.43808256 0.43408788 ... 0.39147803 0.38881491 0.38881491]\n",
      " ...\n",
      " [0.68804159 0.68284229 0.67764298 ... 0.86481802 0.86655113 0.86655113]\n",
      " [0.77031802 0.77031802 0.77031802 ... 0.67137809 0.66431095 0.67137809]\n",
      " [0.37179487 0.37948718 0.37435897 ... 0.39230769 0.38974359 0.3974359 ]]\n"
     ]
    }
   ],
   "source": [
    "print(X)"
   ]
  },
  {
   "cell_type": "code",
   "execution_count": 5,
   "id": "d84b0114",
   "metadata": {},
   "outputs": [
    {
     "name": "stdout",
     "output_type": "stream",
     "text": [
      "[1 1 0 1 0 0 1 1 1 1 1 1 1 0 1 0 1 0 0 1 1 1 1 0 1 0 0 1 0 1 0 0 1 0 1 1 0\n",
      " 1 0 1 0 1 1 0 0 1 0 0 0 1 1 1 1 1 1 0 0 1 0 0 0 0 0 0 1 1 1 0 1 0 1 1 1 1\n",
      " 0 1 1 1 1 1 0 1 1 1 1 1 1 1 1 1 1 1 1 1 1 0 1 1 1 1 1 1 1 1 1 1 1 1 1 1 1\n",
      " 0 0 1 1 0 1 1 1 1 1 1 1 1 1 1 0 0 0 0 1 1 1 1 1 1 1 1 1 1 1 1 0 0 0 0 1 1\n",
      " 0 0 1 1 1 1 1 1 1 0 1 1 1 1 1 1 1 1 0 1 1 1 1 1 1 1 1 1 1 0 1 1 1 1 1 1 1\n",
      " 1 1 0 0 1 1 1 1 1 1 0 1 1 1 1 1 1 1 1 1 1 1 1 1 1 1 1 1 1 1 1 1 1 1 1 1 1\n",
      " 1 1 1 1 1 1 1 1 1 0 1 1 1 1 1 0 1 1 1 1 1 1 1 0 1 0 1 1 1 1 0 1 1 1 0 0 0\n",
      " 1 1 1 0 1 1 1 1 0 0 1 0 1 1 1 1 1 1 0 1 1 1 0 1 1 0 1 1 1 1 1 1 1 1 1 0 0\n",
      " 1 1 1 1 0 1 1 1 1 1 0 1 0 1 0 1 1 0 0 1 1 1 1 0 0 1 1 1 1 0 1 0 0 0 1 0 0\n",
      " 0 0 1 0 1 1 0 0 1 1 0 1 0 1 1 1 0 0 1 1 1 1 0 0 1 1 1 0 1 1 0 1 1 0 1 0 0\n",
      " 1 1 1 0 0 0 1 1 1 1 0 1 1 1 1 0 1 1 1 0 0 1 1 1 1 1 1 1 1 1 1 0 1 1 0 1 0\n",
      " 1 1 1 1 0 0 1 0 0 1 1 0 1 1 0 1 1 1 1 0 1 0 1 0 0 1]\n"
     ]
    }
   ],
   "source": [
    "print(y)"
   ]
  },
  {
   "cell_type": "code",
   "execution_count": 6,
   "id": "d7f28ed6",
   "metadata": {},
   "outputs": [],
   "source": [
    "from sklearn.model_selection import train_test_split\n",
    "X_train, X_test, y_train, y_test = train_test_split(X, y, test_size = 0.25, random_state = 0)"
   ]
  },
  {
   "cell_type": "code",
   "execution_count": 7,
   "id": "aafcb862",
   "metadata": {},
   "outputs": [],
   "source": [
    "from sklearn.preprocessing import StandardScaler\n",
    "sc = StandardScaler()\n",
    "X_train = sc.fit_transform(X_train)\n",
    "X_test = sc.transform(X_test)"
   ]
  },
  {
   "cell_type": "code",
   "execution_count": 8,
   "id": "a72c220c",
   "metadata": {},
   "outputs": [],
   "source": [
    "ann = tf.keras.models.Sequential()"
   ]
  },
  {
   "cell_type": "code",
   "execution_count": 9,
   "id": "3fc1ff64",
   "metadata": {},
   "outputs": [],
   "source": [
    "ann.add(tf.keras.layers.Dense(units=3700, activation='relu'))"
   ]
  },
  {
   "cell_type": "code",
   "execution_count": 10,
   "id": "7fdbca05",
   "metadata": {},
   "outputs": [],
   "source": [
    "ann.add(tf.keras.layers.Dense(units=3700, activation='relu'))"
   ]
  },
  {
   "cell_type": "code",
   "execution_count": 11,
   "id": "0a9e247c",
   "metadata": {},
   "outputs": [],
   "source": [
    "ann.add(tf.keras.layers.Dense(units=1, activation='sigmoid'))"
   ]
  },
  {
   "cell_type": "code",
   "execution_count": 12,
   "id": "50e01b97",
   "metadata": {},
   "outputs": [],
   "source": [
    "ann.compile(optimizer = 'adam', loss = 'binary_crossentropy', metrics = ['accuracy'])"
   ]
  },
  {
   "cell_type": "code",
   "execution_count": 13,
   "id": "3061a88b",
   "metadata": {},
   "outputs": [
    {
     "name": "stdout",
     "output_type": "stream",
     "text": [
      "Epoch 1/100\n",
      "7/7 [==============================] - 4s 283ms/step - loss: 24.5379 - accuracy: 0.5617\n",
      "Epoch 2/100\n",
      "7/7 [==============================] - 2s 277ms/step - loss: 2.3447 - accuracy: 0.6358\n",
      "Epoch 3/100\n",
      "7/7 [==============================] - 2s 274ms/step - loss: 1.0715 - accuracy: 0.6698\n",
      "Epoch 4/100\n",
      "7/7 [==============================] - 2s 290ms/step - loss: 0.8297 - accuracy: 0.6605\n",
      "Epoch 5/100\n",
      "7/7 [==============================] - 2s 291ms/step - loss: 0.7081 - accuracy: 0.6821\n",
      "Epoch 6/100\n",
      "7/7 [==============================] - 2s 283ms/step - loss: 1.0095 - accuracy: 0.6574\n",
      "Epoch 7/100\n",
      "7/7 [==============================] - 2s 279ms/step - loss: 0.9197 - accuracy: 0.6975\n",
      "Epoch 8/100\n",
      "7/7 [==============================] - 2s 290ms/step - loss: 0.9761 - accuracy: 0.7037\n",
      "Epoch 9/100\n",
      "7/7 [==============================] - 2s 285ms/step - loss: 0.4511 - accuracy: 0.8117\n",
      "Epoch 10/100\n",
      "7/7 [==============================] - 2s 277ms/step - loss: 0.5307 - accuracy: 0.7901\n",
      "Epoch 11/100\n",
      "7/7 [==============================] - 2s 275ms/step - loss: 0.5767 - accuracy: 0.8086\n",
      "Epoch 12/100\n",
      "7/7 [==============================] - 2s 281ms/step - loss: 0.6777 - accuracy: 0.7901\n",
      "Epoch 13/100\n",
      "7/7 [==============================] - 2s 281ms/step - loss: 0.6870 - accuracy: 0.8364\n",
      "Epoch 14/100\n",
      "7/7 [==============================] - 2s 280ms/step - loss: 0.4417 - accuracy: 0.8148\n",
      "Epoch 15/100\n",
      "7/7 [==============================] - 2s 276ms/step - loss: 0.7466 - accuracy: 0.8241\n",
      "Epoch 16/100\n",
      "7/7 [==============================] - 2s 296ms/step - loss: 0.3647 - accuracy: 0.8673\n",
      "Epoch 17/100\n",
      "7/7 [==============================] - 2s 303ms/step - loss: 0.2582 - accuracy: 0.8981\n",
      "Epoch 18/100\n",
      "7/7 [==============================] - 2s 301ms/step - loss: 0.2045 - accuracy: 0.9321\n",
      "Epoch 19/100\n",
      "7/7 [==============================] - 2s 288ms/step - loss: 0.0991 - accuracy: 0.9784\n",
      "Epoch 20/100\n",
      "7/7 [==============================] - 2s 281ms/step - loss: 0.1446 - accuracy: 0.9537\n",
      "Epoch 21/100\n",
      "7/7 [==============================] - 2s 289ms/step - loss: 0.4272 - accuracy: 0.9074\n",
      "Epoch 22/100\n",
      "7/7 [==============================] - 2s 289ms/step - loss: 0.2304 - accuracy: 0.9198\n",
      "Epoch 23/100\n",
      "7/7 [==============================] - 2s 283ms/step - loss: 0.1534 - accuracy: 0.9414\n",
      "Epoch 24/100\n",
      "7/7 [==============================] - 2s 284ms/step - loss: 0.0828 - accuracy: 0.9753\n",
      "Epoch 25/100\n",
      "7/7 [==============================] - 2s 282ms/step - loss: 0.0924 - accuracy: 0.9537\n",
      "Epoch 26/100\n",
      "7/7 [==============================] - 2s 287ms/step - loss: 0.0725 - accuracy: 0.9784\n",
      "Epoch 27/100\n",
      "7/7 [==============================] - 2s 289ms/step - loss: 0.0639 - accuracy: 0.9753\n",
      "Epoch 28/100\n",
      "7/7 [==============================] - 2s 285ms/step - loss: 0.0281 - accuracy: 0.9938\n",
      "Epoch 29/100\n",
      "7/7 [==============================] - 2s 285ms/step - loss: 0.0182 - accuracy: 0.9969\n",
      "Epoch 30/100\n",
      "7/7 [==============================] - 2s 294ms/step - loss: 0.0235 - accuracy: 0.9969\n",
      "Epoch 31/100\n",
      "7/7 [==============================] - 2s 294ms/step - loss: 0.4900 - accuracy: 0.9136\n",
      "Epoch 32/100\n",
      "7/7 [==============================] - 2s 296ms/step - loss: 0.8956 - accuracy: 0.8704\n",
      "Epoch 33/100\n",
      "7/7 [==============================] - 2s 275ms/step - loss: 0.3178 - accuracy: 0.9198\n",
      "Epoch 34/100\n",
      "7/7 [==============================] - 2s 288ms/step - loss: 0.1161 - accuracy: 0.9630\n",
      "Epoch 35/100\n",
      "7/7 [==============================] - 2s 298ms/step - loss: 0.0417 - accuracy: 0.9938\n",
      "Epoch 36/100\n",
      "7/7 [==============================] - 2s 296ms/step - loss: 0.0253 - accuracy: 0.9938\n",
      "Epoch 37/100\n",
      "7/7 [==============================] - 2s 299ms/step - loss: 0.0236 - accuracy: 0.9907\n",
      "Epoch 38/100\n",
      "7/7 [==============================] - 2s 294ms/step - loss: 0.0164 - accuracy: 0.9969\n",
      "Epoch 39/100\n",
      "7/7 [==============================] - 2s 294ms/step - loss: 0.0180 - accuracy: 0.9969\n",
      "Epoch 40/100\n",
      "7/7 [==============================] - 2s 290ms/step - loss: 0.0145 - accuracy: 0.9938\n",
      "Epoch 41/100\n",
      "7/7 [==============================] - 2s 290ms/step - loss: 0.0190 - accuracy: 0.9969\n",
      "Epoch 42/100\n",
      "7/7 [==============================] - 2s 289ms/step - loss: 0.0102 - accuracy: 0.9969\n",
      "Epoch 43/100\n",
      "7/7 [==============================] - 2s 296ms/step - loss: 0.0104 - accuracy: 1.0000\n",
      "Epoch 44/100\n",
      "7/7 [==============================] - 2s 288ms/step - loss: 0.0100 - accuracy: 0.9969\n",
      "Epoch 45/100\n",
      "7/7 [==============================] - 2s 293ms/step - loss: 0.0111 - accuracy: 0.9969\n",
      "Epoch 46/100\n",
      "7/7 [==============================] - 2s 296ms/step - loss: 0.0098 - accuracy: 1.0000\n",
      "Epoch 47/100\n",
      "7/7 [==============================] - 2s 276ms/step - loss: 0.0155 - accuracy: 0.9938\n",
      "Epoch 48/100\n",
      "7/7 [==============================] - 2s 283ms/step - loss: 0.2192 - accuracy: 0.9290\n",
      "Epoch 49/100\n",
      "7/7 [==============================] - 2s 284ms/step - loss: 0.2335 - accuracy: 0.9414\n",
      "Epoch 50/100\n",
      "7/7 [==============================] - 2s 285ms/step - loss: 0.1769 - accuracy: 0.9568\n",
      "Epoch 51/100\n",
      "7/7 [==============================] - 2s 298ms/step - loss: 0.2111 - accuracy: 0.9444\n",
      "Epoch 52/100\n",
      "7/7 [==============================] - 2s 299ms/step - loss: 0.0249 - accuracy: 0.9938\n",
      "Epoch 53/100\n",
      "7/7 [==============================] - 2s 308ms/step - loss: 0.0096 - accuracy: 0.9969\n",
      "Epoch 54/100\n",
      "7/7 [==============================] - 2s 296ms/step - loss: 0.0148 - accuracy: 0.9938\n",
      "Epoch 55/100\n",
      "7/7 [==============================] - 2s 291ms/step - loss: 0.0094 - accuracy: 0.9969\n",
      "Epoch 56/100\n",
      "7/7 [==============================] - 2s 292ms/step - loss: 0.0072 - accuracy: 0.9969\n",
      "Epoch 57/100\n",
      "7/7 [==============================] - 2s 283ms/step - loss: 0.0127 - accuracy: 0.9969\n",
      "Epoch 58/100\n",
      "7/7 [==============================] - 2s 281ms/step - loss: 0.0068 - accuracy: 0.9969\n",
      "Epoch 59/100\n",
      "7/7 [==============================] - 2s 285ms/step - loss: 0.0076 - accuracy: 0.9969\n",
      "Epoch 60/100\n",
      "7/7 [==============================] - 2s 280ms/step - loss: 0.0067 - accuracy: 0.9969\n",
      "Epoch 61/100\n",
      "7/7 [==============================] - 2s 287ms/step - loss: 0.0058 - accuracy: 0.9969\n",
      "Epoch 62/100\n",
      "7/7 [==============================] - 2s 298ms/step - loss: 0.0057 - accuracy: 0.9969\n",
      "Epoch 63/100\n",
      "7/7 [==============================] - 2s 299ms/step - loss: 0.0057 - accuracy: 0.9969\n",
      "Epoch 64/100\n",
      "7/7 [==============================] - 2s 295ms/step - loss: 0.0055 - accuracy: 0.9969\n",
      "Epoch 65/100\n",
      "7/7 [==============================] - 2s 292ms/step - loss: 0.0064 - accuracy: 0.9969\n",
      "Epoch 66/100\n",
      "7/7 [==============================] - 2s 297ms/step - loss: 0.0057 - accuracy: 0.9969\n",
      "Epoch 67/100\n",
      "7/7 [==============================] - 2s 284ms/step - loss: 0.0066 - accuracy: 0.9969\n",
      "Epoch 68/100\n",
      "7/7 [==============================] - 2s 282ms/step - loss: 0.0053 - accuracy: 0.9969\n",
      "Epoch 69/100\n",
      "7/7 [==============================] - 2s 279ms/step - loss: 0.0062 - accuracy: 0.9969\n",
      "Epoch 70/100\n",
      "7/7 [==============================] - 2s 291ms/step - loss: 0.0102 - accuracy: 0.9969\n",
      "Epoch 71/100\n",
      "7/7 [==============================] - 2s 294ms/step - loss: 0.0077 - accuracy: 0.9969\n",
      "Epoch 72/100\n",
      "7/7 [==============================] - 2s 289ms/step - loss: 0.0055 - accuracy: 0.9969\n",
      "Epoch 73/100\n",
      "7/7 [==============================] - 2s 295ms/step - loss: 0.0055 - accuracy: 0.9938\n",
      "Epoch 74/100\n",
      "7/7 [==============================] - 2s 297ms/step - loss: 0.0062 - accuracy: 0.9969\n",
      "Epoch 75/100\n",
      "7/7 [==============================] - 2s 307ms/step - loss: 0.0051 - accuracy: 0.9969\n",
      "Epoch 76/100\n",
      "7/7 [==============================] - 2s 297ms/step - loss: 0.0057 - accuracy: 0.9969\n",
      "Epoch 77/100\n",
      "7/7 [==============================] - 2s 295ms/step - loss: 0.0050 - accuracy: 0.9969\n",
      "Epoch 78/100\n",
      "7/7 [==============================] - 2s 293ms/step - loss: 0.0048 - accuracy: 0.9969\n",
      "Epoch 79/100\n",
      "7/7 [==============================] - 2s 295ms/step - loss: 0.0048 - accuracy: 0.9969\n",
      "Epoch 80/100\n",
      "7/7 [==============================] - 2s 296ms/step - loss: 0.0051 - accuracy: 0.9969\n",
      "Epoch 81/100\n",
      "7/7 [==============================] - 2s 291ms/step - loss: 0.0050 - accuracy: 0.9969\n",
      "Epoch 82/100\n",
      "7/7 [==============================] - 2s 292ms/step - loss: 0.0061 - accuracy: 0.9938\n",
      "Epoch 83/100\n"
     ]
    },
    {
     "name": "stdout",
     "output_type": "stream",
     "text": [
      "7/7 [==============================] - 2s 294ms/step - loss: 0.0040 - accuracy: 1.0000\n",
      "Epoch 84/100\n",
      "7/7 [==============================] - 2s 284ms/step - loss: 0.0085 - accuracy: 0.9969\n",
      "Epoch 85/100\n",
      "7/7 [==============================] - 2s 282ms/step - loss: 0.0088 - accuracy: 0.9969\n",
      "Epoch 86/100\n",
      "7/7 [==============================] - 2s 293ms/step - loss: 0.0048 - accuracy: 0.9969\n",
      "Epoch 87/100\n",
      "7/7 [==============================] - 2s 298ms/step - loss: 0.0054 - accuracy: 0.9969\n",
      "Epoch 88/100\n",
      "7/7 [==============================] - 2s 293ms/step - loss: 0.0061 - accuracy: 0.9969\n",
      "Epoch 89/100\n",
      "7/7 [==============================] - 2s 300ms/step - loss: 0.0063 - accuracy: 0.9969\n",
      "Epoch 90/100\n",
      "7/7 [==============================] - 2s 307ms/step - loss: 0.0056 - accuracy: 0.9938\n",
      "Epoch 91/100\n",
      "7/7 [==============================] - 2s 292ms/step - loss: 0.0051 - accuracy: 0.9969\n",
      "Epoch 92/100\n",
      "7/7 [==============================] - 2s 293ms/step - loss: 0.0054 - accuracy: 0.9938\n",
      "Epoch 93/100\n",
      "7/7 [==============================] - 2s 306ms/step - loss: 0.0059 - accuracy: 0.9938\n",
      "Epoch 94/100\n",
      "7/7 [==============================] - 2s 290ms/step - loss: 0.0046 - accuracy: 0.9969\n",
      "Epoch 95/100\n",
      "7/7 [==============================] - 2s 307ms/step - loss: 0.0057 - accuracy: 0.9938\n",
      "Epoch 96/100\n",
      "7/7 [==============================] - 2s 297ms/step - loss: 0.0067 - accuracy: 0.9938\n",
      "Epoch 97/100\n",
      "7/7 [==============================] - 2s 297ms/step - loss: 0.0058 - accuracy: 0.9969\n",
      "Epoch 98/100\n",
      "7/7 [==============================] - 2s 294ms/step - loss: 0.0054 - accuracy: 0.9969\n",
      "Epoch 99/100\n",
      "7/7 [==============================] - 2s 291ms/step - loss: 0.0046 - accuracy: 0.9969\n",
      "Epoch 100/100\n",
      "7/7 [==============================] - 2s 289ms/step - loss: 0.0063 - accuracy: 0.9969\n"
     ]
    },
    {
     "data": {
      "text/plain": [
       "<keras.callbacks.History at 0x1ba1e1714c0>"
      ]
     },
     "execution_count": 13,
     "metadata": {},
     "output_type": "execute_result"
    }
   ],
   "source": [
    "ann.fit(X_train, y_train, batch_size = 50, epochs = 100)"
   ]
  },
  {
   "cell_type": "code",
   "execution_count": null,
   "id": "dff26bde",
   "metadata": {},
   "outputs": [],
   "source": []
  },
  {
   "cell_type": "code",
   "execution_count": 14,
   "id": "4c5621a4",
   "metadata": {},
   "outputs": [
    {
     "name": "stdout",
     "output_type": "stream",
     "text": [
      "4/4 [==============================] - 0s 31ms/step\n",
      "[[1 0]\n",
      " [0 1]\n",
      " [1 1]\n",
      " [1 0]\n",
      " [0 1]\n",
      " [1 1]\n",
      " [0 1]\n",
      " [1 1]\n",
      " [0 1]\n",
      " [0 1]\n",
      " [1 1]\n",
      " [1 1]\n",
      " [1 1]\n",
      " [1 1]\n",
      " [1 1]\n",
      " [1 1]\n",
      " [1 0]\n",
      " [1 1]\n",
      " [1 1]\n",
      " [1 1]\n",
      " [0 1]\n",
      " [1 0]\n",
      " [0 1]\n",
      " [0 1]\n",
      " [1 1]\n",
      " [1 1]\n",
      " [1 1]\n",
      " [1 0]\n",
      " [1 1]\n",
      " [1 0]\n",
      " [1 1]\n",
      " [1 1]\n",
      " [1 1]\n",
      " [1 1]\n",
      " [1 1]\n",
      " [1 1]\n",
      " [0 0]\n",
      " [1 0]\n",
      " [0 1]\n",
      " [1 1]\n",
      " [1 1]\n",
      " [1 0]\n",
      " [1 1]\n",
      " [1 0]\n",
      " [1 1]\n",
      " [0 0]\n",
      " [1 1]\n",
      " [1 1]\n",
      " [0 1]\n",
      " [1 1]\n",
      " [1 1]\n",
      " [1 1]\n",
      " [0 0]\n",
      " [1 1]\n",
      " [1 1]\n",
      " [0 1]\n",
      " [0 1]\n",
      " [1 1]\n",
      " [1 0]\n",
      " [0 1]\n",
      " [0 1]\n",
      " [0 0]\n",
      " [1 1]\n",
      " [1 1]\n",
      " [1 0]\n",
      " [1 1]\n",
      " [1 0]\n",
      " [1 1]\n",
      " [1 1]\n",
      " [1 1]\n",
      " [1 1]\n",
      " [0 1]\n",
      " [1 1]\n",
      " [0 1]\n",
      " [1 1]\n",
      " [1 1]\n",
      " [0 0]\n",
      " [1 1]\n",
      " [1 1]\n",
      " [1 1]\n",
      " [1 1]\n",
      " [1 0]\n",
      " [1 0]\n",
      " [1 1]\n",
      " [1 1]\n",
      " [1 0]\n",
      " [1 1]\n",
      " [1 1]\n",
      " [1 1]\n",
      " [1 1]\n",
      " [1 1]\n",
      " [0 1]\n",
      " [0 0]\n",
      " [0 1]\n",
      " [1 1]\n",
      " [1 1]\n",
      " [1 1]\n",
      " [1 0]\n",
      " [1 1]\n",
      " [0 1]\n",
      " [0 1]\n",
      " [1 1]\n",
      " [1 1]\n",
      " [0 1]\n",
      " [1 1]\n",
      " [0 0]\n",
      " [0 1]\n",
      " [1 1]\n",
      " [1 1]]\n"
     ]
    }
   ],
   "source": [
    "y_pred = ann.predict(X_test)\n",
    "y_pred = (y_pred > 0.5)\n",
    "print(np.concatenate((y_pred.reshape(len(y_pred),1), y_test.reshape(len(y_test),1)),1))"
   ]
  },
  {
   "cell_type": "code",
   "execution_count": 15,
   "id": "fa81c993",
   "metadata": {},
   "outputs": [
    {
     "name": "stdout",
     "output_type": "stream",
     "text": [
      "[[ 7 16]\n",
      " [22 64]]\n"
     ]
    },
    {
     "data": {
      "text/plain": [
       "0.6513761467889908"
      ]
     },
     "execution_count": 15,
     "metadata": {},
     "output_type": "execute_result"
    }
   ],
   "source": [
    "from sklearn.metrics import confusion_matrix, accuracy_score\n",
    "cm = confusion_matrix(y_test, y_pred)\n",
    "print(cm)\n",
    "accuracy_score(y_test, y_pred)"
   ]
  },
  {
   "cell_type": "code",
   "execution_count": null,
   "id": "568cc4a4",
   "metadata": {},
   "outputs": [],
   "source": []
  },
  {
   "cell_type": "code",
   "execution_count": null,
   "id": "bd873a96",
   "metadata": {},
   "outputs": [],
   "source": []
  },
  {
   "cell_type": "code",
   "execution_count": null,
   "id": "0ca6b79a",
   "metadata": {},
   "outputs": [],
   "source": []
  }
 ],
 "metadata": {
  "kernelspec": {
   "display_name": "Python 3 (ipykernel)",
   "language": "python",
   "name": "python3"
  },
  "language_info": {
   "codemirror_mode": {
    "name": "ipython",
    "version": 3
   },
   "file_extension": ".py",
   "mimetype": "text/x-python",
   "name": "python",
   "nbconvert_exporter": "python",
   "pygments_lexer": "ipython3",
   "version": "3.9.13"
  }
 },
 "nbformat": 4,
 "nbformat_minor": 5
}
