{
 "cells": [
  {
   "cell_type": "code",
   "execution_count": 1,
   "id": "8f24d754",
   "metadata": {},
   "outputs": [
    {
     "name": "stdout",
     "output_type": "stream",
     "text": [
      "Done Boss !!\n"
     ]
    }
   ],
   "source": [
    "# Decision Tree Classification\n",
    "\n",
    "# Importing the libraries\n",
    "import numpy as np\n",
    "import matplotlib.pyplot as plt\n",
    "import pandas as pd\n",
    "print('Done Boss !!')"
   ]
  },
  {
   "cell_type": "code",
   "execution_count": 2,
   "id": "ef941ed0",
   "metadata": {},
   "outputs": [
    {
     "name": "stdout",
     "output_type": "stream",
     "text": [
      "Done Boss !!\n"
     ]
    }
   ],
   "source": [
    "# Importing the dataset\n",
    "dataset = pd.read_csv('ECG_NAGPUR-2.csv')\n",
    "X = dataset.iloc[:, :-1].values\n",
    "y = dataset.iloc[:, -1].values\n",
    "print('Done Boss !!')"
   ]
  },
  {
   "cell_type": "code",
   "execution_count": 3,
   "id": "2039da2c",
   "metadata": {},
   "outputs": [
    {
     "name": "stdout",
     "output_type": "stream",
     "text": [
      "Done Boss !!\n"
     ]
    }
   ],
   "source": [
    "# Splitting the dataset into the Training set and Test set\n",
    "from sklearn.model_selection import train_test_split\n",
    "X_train, X_test, y_train, y_test = train_test_split(X, y, test_size = 0.25, random_state = 0)\n",
    "print('Done Boss !!')"
   ]
  },
  {
   "cell_type": "code",
   "execution_count": 4,
   "id": "79fd20c3",
   "metadata": {},
   "outputs": [
    {
     "name": "stdout",
     "output_type": "stream",
     "text": [
      "Done Boss !!\n"
     ]
    }
   ],
   "source": [
    "# Feature Scaling\n",
    "from sklearn.preprocessing import StandardScaler\n",
    "sc = StandardScaler()\n",
    "X_train = sc.fit_transform(X_train)\n",
    "X_test = sc.transform(X_test)\n",
    "print('Done Boss !!')"
   ]
  },
  {
   "cell_type": "code",
   "execution_count": 5,
   "id": "749ea38e",
   "metadata": {},
   "outputs": [
    {
     "name": "stdout",
     "output_type": "stream",
     "text": [
      "Done Boss !!\n"
     ]
    }
   ],
   "source": [
    "from sklearn.tree import DecisionTreeClassifier\n",
    "classifier = DecisionTreeClassifier(criterion = 'entropy', random_state = 0)\n",
    "classifier.fit(X_train, y_train)\n",
    "print('Done Boss !!')"
   ]
  },
  {
   "cell_type": "code",
   "execution_count": 6,
   "id": "23367ef2",
   "metadata": {},
   "outputs": [
    {
     "name": "stdout",
     "output_type": "stream",
     "text": [
      "[[ 3 10]\n",
      " [16 37]]\n",
      "0.6060606060606061\n",
      "Done Boss !!\n"
     ]
    }
   ],
   "source": [
    "# Making the Confusion Matrix\n",
    "from sklearn.metrics import confusion_matrix, accuracy_score\n",
    "y_pred = classifier.predict(X_test)\n",
    "cm = confusion_matrix(y_test, y_pred)\n",
    "print(cm)\n",
    "acc = accuracy_score(y_test, y_pred)\n",
    "print(acc)\n",
    "print('Done Boss !!')"
   ]
  },
  {
   "cell_type": "code",
   "execution_count": 7,
   "id": "e731b1b7",
   "metadata": {},
   "outputs": [
    {
     "name": "stdout",
     "output_type": "stream",
     "text": [
      "Done Boss !!\n"
     ]
    }
   ],
   "source": [
    "import pandas as pd\n",
    "import seaborn as sn\n",
    "import matplotlib.pyplot as plt\n",
    "print('Done Boss !!')"
   ]
  },
  {
   "cell_type": "code",
   "execution_count": 9,
   "id": "25cf335b",
   "metadata": {},
   "outputs": [
    {
     "name": "stdout",
     "output_type": "stream",
     "text": [
      "Done Boss\n"
     ]
    },
    {
     "data": {
      "image/png": "[encoded data removed]",
      "text/plain": [
       "<Figure size 1000x700 with 2 Axes>"
      ]
     },
     "metadata": {},
     "output_type": "display_data"
    }
   ],
   "source": [
    "classes = [\"Normal\", \"Abnormal\"]\n",
    "df_cfm = pd.DataFrame(cm, index = classes, columns = classes)\n",
    "plt.figure(figsize = (10,7))\n",
    "cfm_plot = sn.heatmap(df_cfm, annot=True)\n",
    "cfm_plot.figure.savefig(\"DTree_cm.png\")\n",
    "print('Done Boss')"
   ]
  },
  {
   "cell_type": "code",
   "execution_count": null,
   "id": "9b171b31",
   "metadata": {},
   "outputs": [],
   "source": []
  }
 ],
 "metadata": {
  "kernelspec": {
   "display_name": "Python 3 (ipykernel)",
   "language": "python",
   "name": "python3"
  },
  "language_info": {
   "codemirror_mode": {
    "name": "ipython",
    "version": 3
   },
   "file_extension": ".py",
   "mimetype": "text/x-python",
   "name": "python",
   "nbconvert_exporter": "python",
   "pygments_lexer": "ipython3",
   "version": "3.9.13"
  }
 },
 "nbformat": 4,
 "nbformat_minor": 5
}
