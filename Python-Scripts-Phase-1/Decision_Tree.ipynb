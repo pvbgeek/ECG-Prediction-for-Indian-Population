{
 "cells": [
  {
   "cell_type": "code",
   "execution_count": 14,
   "id": "8f24d754",
   "metadata": {},
   "outputs": [
    {
     "name": "stdout",
     "output_type": "stream",
     "text": [
      "Done Boss !!\n"
     ]
    }
   ],
   "source": [
    "# Decision Tree Classification\n",
    "\n",
    "# Importing the libraries\n",
    "import numpy as np\n",
    "import matplotlib.pyplot as plt\n",
    "import pandas as pd\n",
    "print('Done Boss !!')"
   ]
  },
  {
   "cell_type": "code",
   "execution_count": 20,
   "id": "ef941ed0",
   "metadata": {},
   "outputs": [
    {
     "name": "stdout",
     "output_type": "stream",
     "text": [
      "[[0.40677966 0.4039548  0.40112994 ... 0.71186441 0.70338983 0.69774011]\n",
      " [0.71125265 0.70912951 0.71125265 ... 0.91932059 0.92569002 0.92569002]\n",
      " [0.43808256 0.43808256 0.43408788 ... 0.39147803 0.38881491 0.38881491]\n",
      " ...\n",
      " [0.48329049 0.4781491  0.47557841 ... 0.4781491  0.4781491  0.48071979]\n",
      " [0.22473868 0.22473868 0.21777004 ... 0.24390244 0.24216028 0.23170732]\n",
      " [0.72865275 0.73055028 0.73434535 ... 0.85009488 0.83301708 0.81783681]]\n",
      "[1 1 0 1 0 0 1 1 1 1 1 1 1 0 1 0 1 0 0 1 1 1 1 0 1 0 0 1 0 1 0 0 1 0 1 1 0\n",
      " 1 0 1 0 1 1 0 0 1 0 0 0 1 1 1 1 1 1 0 0 1 0 0 0 0 0 0 1 1 1 0 1 0]\n",
      "Done Boss !!\n"
     ]
    }
   ],
   "source": [
    "# Importing the dataset\n",
    "dataset = pd.read_csv('ECG_NAGPUR-1.csv')\n",
    "X = dataset.iloc[:, :-1].values\n",
    "y = dataset.iloc[:, -1].values\n",
    "print(X)\n",
    "print(y)\n",
    "print('Done Boss !!')"
   ]
  },
  {
   "cell_type": "code",
   "execution_count": 22,
   "id": "2039da2c",
   "metadata": {},
   "outputs": [
    {
     "name": "stdout",
     "output_type": "stream",
     "text": [
      "[[0.64731183 0.6516129  0.65376344 ... 0.60645161 0.61075269 0.60430107]\n",
      " [0.7486911  0.7460733  0.73821989 ... 0.78272251 0.78795812 0.78795812]\n",
      " [0.6641791  0.65671642 0.64925373 ... 0.7761194  0.78109453 0.78606965]\n",
      " ...\n",
      " [0.99238579 0.96954315 0.90101523 ... 0.79441624 0.7893401  0.79187817]\n",
      " [0.5744186  0.5744186  0.58604651 ... 0.39534884 0.39767442 0.4       ]\n",
      " [0.78289474 0.77960526 0.77631579 ... 0.81907895 0.82894737 0.83552632]]\n",
      "[[0.79207921 0.78877888 0.79867987 ... 0.74917492 0.74257426 0.73927393]\n",
      " [0.79207921 0.78877888 0.79867987 ... 0.74917492 0.74257426 0.73927393]\n",
      " [0.90723056 0.89358799 0.88130969 ... 0.62619372 0.62619372 0.62619372]\n",
      " ...\n",
      " [0.51311953 0.51311953 0.51020408 ... 0.52769679 0.51603499 0.51603499]\n",
      " [0.22473868 0.22473868 0.21777004 ... 0.24390244 0.24216028 0.23170732]\n",
      " [0.54545455 0.54545455 0.54882155 ... 0.59259259 0.58585859 0.57912458]]\n",
      "[0 0 1 1 0 0 1 1 1 1 1 1 1 1 1 1 1 0 1 1 1 1 0 1 0 0 1 1 1 1 0 0 1 0 0 0 0\n",
      " 1 0 1 0 1 0 1 1 0 0 1 1 1 0 0]\n",
      "[0 1 0 1 0 1 1 0 1 0 0 0 0 1 0 0 1 0]\n",
      "52\n",
      "18\n",
      "52\n",
      "18\n",
      "Done Boss !!\n"
     ]
    }
   ],
   "source": [
    "# Splitting the dataset into the Training set and Test set\n",
    "from sklearn.model_selection import train_test_split\n",
    "X_train, X_test, y_train, y_test = train_test_split(X, y, test_size = 0.25, random_state = 0)\n",
    "print(X_train)\n",
    "print(X_test)\n",
    "print(y_train)\n",
    "print(y_test)\n",
    "print(len(X_train))\n",
    "print(len(X_test))\n",
    "print(len(y_train))\n",
    "print(len(y_test))\n",
    "print('Done Boss !!')"
   ]
  },
  {
   "cell_type": "code",
   "execution_count": 23,
   "id": "79fd20c3",
   "metadata": {},
   "outputs": [
    {
     "name": "stdout",
     "output_type": "stream",
     "text": [
      "[[ 0.07972371  0.12732995  0.15638707 ... -0.2007831  -0.1804741\n",
      "  -0.19881986]\n",
      " [ 0.67572202  0.67477959  0.64628965 ...  0.74488251  0.76921766\n",
      "   0.78651041]\n",
      " [ 0.17888469  0.15690761  0.1302278  ...  0.70945786  0.73243384\n",
      "   0.7763787 ]\n",
      " ...\n",
      " [ 2.10837803  1.96990957  1.59060888 ...  0.80761753  0.7766241\n",
      "   0.80754174]\n",
      " [-0.34880805 -0.32005323 -0.23641534 ... -1.33331622 -1.32241812\n",
      "  -1.29490653]\n",
      " [ 0.87680169  0.86911566  0.86727071 ...  0.93992904  0.98889015\n",
      "   1.04171647]]\n",
      "[[ 0.93079625  0.92228178  0.99699697 ...  0.56490494  0.5259933\n",
      "   0.52531703]\n",
      " [ 0.93079625  0.92228178  0.99699697 ...  0.56490494  0.5259933\n",
      "   0.52531703]\n",
      " [ 1.6077592   1.52970793  1.47630387 ... -0.09486978 -0.09772142\n",
      "  -0.08136457]\n",
      " ...\n",
      " [-0.70917898 -0.67531486 -0.67635096 ... -0.62329029 -0.68809187\n",
      "  -0.67237236]\n",
      " [-2.40454039 -2.34663963 -2.37265938 ... -2.14580228 -2.15586042\n",
      "  -2.19780617]\n",
      " [-0.51908478 -0.48791579 -0.45234443 ... -0.27513455 -0.31388832\n",
      "  -0.33389316]]\n",
      "52\n",
      "18\n",
      "Done Boss !!\n"
     ]
    }
   ],
   "source": [
    "# Feature Scaling\n",
    "from sklearn.preprocessing import StandardScaler\n",
    "sc = StandardScaler()\n",
    "X_train = sc.fit_transform(X_train)\n",
    "X_test = sc.transform(X_test)\n",
    "print(X_train)\n",
    "print(X_test)\n",
    "print(len(X_train))\n",
    "print(len(X_test))\n",
    "print('Done Boss !!')"
   ]
  },
  {
   "cell_type": "code",
   "execution_count": 18,
   "id": "749ea38e",
   "metadata": {},
   "outputs": [
    {
     "name": "stdout",
     "output_type": "stream",
     "text": [
      "Done Boss !!\n"
     ]
    }
   ],
   "source": [
    "from sklearn.tree import DecisionTreeClassifier\n",
    "classifier = DecisionTreeClassifier(criterion = 'entropy', random_state = 0)\n",
    "classifier.fit(X_train, y_train)\n",
    "print('Done Boss !!')"
   ]
  },
  {
   "cell_type": "code",
   "execution_count": 19,
   "id": "23367ef2",
   "metadata": {},
   "outputs": [
    {
     "name": "stdout",
     "output_type": "stream",
     "text": [
      "[[6 5]\n",
      " [0 7]]\n",
      "0.7222222222222222\n",
      "Done Boss !!\n"
     ]
    }
   ],
   "source": [
    "# Making the Confusion Matrix\n",
    "from sklearn.metrics import confusion_matrix, accuracy_score\n",
    "y_pred = classifier.predict(X_test)\n",
    "cm = confusion_matrix(y_test, y_pred)\n",
    "print(cm)\n",
    "acc = accuracy_score(y_test, y_pred)\n",
    "print(acc)\n",
    "print('Done Boss !!')"
   ]
  },
  {
   "cell_type": "code",
   "execution_count": null,
   "id": "e731b1b7",
   "metadata": {},
   "outputs": [],
   "source": []
  }
 ],
 "metadata": {
  "kernelspec": {
   "display_name": "Python 3 (ipykernel)",
   "language": "python",
   "name": "python3"
  },
  "language_info": {
   "codemirror_mode": {
    "name": "ipython",
    "version": 3
   },
   "file_extension": ".py",
   "mimetype": "text/x-python",
   "name": "python",
   "nbconvert_exporter": "python",
   "pygments_lexer": "ipython3",
   "version": "3.9.13"
  }
 },
 "nbformat": 4,
 "nbformat_minor": 5
}
