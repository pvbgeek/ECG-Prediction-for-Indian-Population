{
 "cells": [
  {
   "cell_type": "code",
   "execution_count": 1,
   "id": "b345c27d",
   "metadata": {},
   "outputs": [],
   "source": [
    "import numpy as np\n",
    "import pandas as pd"
   ]
  },
  {
   "cell_type": "code",
   "execution_count": 2,
   "id": "23a0b740",
   "metadata": {},
   "outputs": [],
   "source": [
    "import tensorflow as tf"
   ]
  },
  {
   "cell_type": "code",
   "execution_count": 3,
   "id": "885d6d88",
   "metadata": {},
   "outputs": [],
   "source": [
    "dataset = pd.read_csv('ECG_NAGPUR-3.csv')\n",
    "X = dataset.iloc[:,:-1].values\n",
    "y = dataset.iloc[:, -1].values"
   ]
  },
  {
   "cell_type": "code",
   "execution_count": 4,
   "id": "d3c43eda",
   "metadata": {},
   "outputs": [
    {
     "name": "stdout",
     "output_type": "stream",
     "text": [
      "[[0.40677966 0.4039548  0.40112994 ... 0.71186441 0.70338983 0.69774011]\n",
      " [0.71125265 0.70912951 0.71125265 ... 0.91932059 0.92569002 0.92569002]\n",
      " [0.43808256 0.43808256 0.43408788 ... 0.39147803 0.38881491 0.38881491]\n",
      " ...\n",
      " [0.87704918 0.87704918 0.88934426 ... 0.73770492 0.73360656 0.74180328]\n",
      " [0.68804159 0.68284229 0.67764298 ... 0.86481802 0.86655113 0.86655113]\n",
      " [0.77031802 0.77031802 0.77031802 ... 0.67137809 0.66431095 0.67137809]]\n"
     ]
    }
   ],
   "source": [
    "print(X)"
   ]
  },
  {
   "cell_type": "code",
   "execution_count": 5,
   "id": "d84b0114",
   "metadata": {},
   "outputs": [
    {
     "name": "stdout",
     "output_type": "stream",
     "text": [
      "[1 1 0 1 0 0 1 1 1 1 1 1 1 0 1 0 1 0 0 1 1 1 1 0 1 0 0 1 0 1 0 0 1 0 1 1 0\n",
      " 1 0 1 0 1 1 0 0 1 0 0 0 1 1 1 1 1 1 0 0 1 0 0 0 0 0 0 1 1 1 0 1 0 1 1 1 1\n",
      " 0 1 1 1 1 1 0 1 1 1 1 1 1 1 1 1 1 1 1 1 1 0 1 1 1 1 1 1 1 1 1 1 1 1 1 1 1\n",
      " 0 0 1 1 0 1 1 1 1 1 1 1 1 1 1 0 0 0 0 1 1 1 1 1 1 1 1 1 1 1 1 0 0 0 0 1 1\n",
      " 0 0 1 1 1 1 1 1 1 0 1 1 1 1 1 1 1 1 0 1 1 1 1 1 1 1 1 1 1 0 1 1 1 1 1 1 1\n",
      " 1 1 0 0 1 1 1 1 1 1 0 1 1 1 1 1 1 1 1 1 1 1 1 1 1 1 1 1 1 1 1 1 1 1 1 1 1\n",
      " 1 1 1 1 1 1 1 1 1 0 1 1 1 1 1 0 1 1 1 1 1 1 1 0 1 0 1 1 1 1 0 1 1 1 0 0 0\n",
      " 1 1 1 0 0 0 0 0 0 0 0 0 0 0 0 0 0 0 0 0 0 0 0 0 0 0 0 0 0 0 0 0 0 0 0 0 0\n",
      " 0 0 0 0 0 0 0 0 0 0 0 0 0 0 0 0 0 0 0 0 0 0 0 0 0]\n"
     ]
    }
   ],
   "source": [
    "print(y)"
   ]
  },
  {
   "cell_type": "code",
   "execution_count": 6,
   "id": "d7f28ed6",
   "metadata": {},
   "outputs": [],
   "source": [
    "from sklearn.model_selection import train_test_split\n",
    "X_train, X_test, y_train, y_test = train_test_split(X, y, test_size = 0.25, random_state = 0)"
   ]
  },
  {
   "cell_type": "code",
   "execution_count": 7,
   "id": "aafcb862",
   "metadata": {},
   "outputs": [],
   "source": [
    "from sklearn.preprocessing import StandardScaler\n",
    "sc = StandardScaler()\n",
    "X_train = sc.fit_transform(X_train)\n",
    "X_test = sc.transform(X_test)"
   ]
  },
  {
   "cell_type": "code",
   "execution_count": 8,
   "id": "a72c220c",
   "metadata": {},
   "outputs": [],
   "source": [
    "ann = tf.keras.models.Sequential()"
   ]
  },
  {
   "cell_type": "code",
   "execution_count": 9,
   "id": "3fc1ff64",
   "metadata": {},
   "outputs": [],
   "source": [
    "ann.add(tf.keras.layers.Dense(units=3700, activation='relu'))"
   ]
  },
  {
   "cell_type": "code",
   "execution_count": 10,
   "id": "7fdbca05",
   "metadata": {},
   "outputs": [],
   "source": [
    "ann.add(tf.keras.layers.Dense(units=3700, activation='relu'))"
   ]
  },
  {
   "cell_type": "code",
   "execution_count": 11,
   "id": "0a9e247c",
   "metadata": {},
   "outputs": [],
   "source": [
    "ann.add(tf.keras.layers.Dense(units=1, activation='sigmoid'))"
   ]
  },
  {
   "cell_type": "code",
   "execution_count": 12,
   "id": "50e01b97",
   "metadata": {},
   "outputs": [],
   "source": [
    "ann.compile(optimizer = 'adam', loss = 'binary_crossentropy', metrics = ['accuracy'])"
   ]
  },
  {
   "cell_type": "code",
   "execution_count": 13,
   "id": "3061a88b",
   "metadata": {},
   "outputs": [
    {
     "name": "stdout",
     "output_type": "stream",
     "text": [
      "Epoch 1/100\n",
      "5/5 [==============================] - 4s 313ms/step - loss: 17.4649 - accuracy: 0.5250\n",
      "Epoch 2/100\n",
      "5/5 [==============================] - 1s 280ms/step - loss: 3.3283 - accuracy: 0.5542\n",
      "Epoch 3/100\n",
      "5/5 [==============================] - 1s 284ms/step - loss: 1.7682 - accuracy: 0.5750\n",
      "Epoch 4/100\n",
      "5/5 [==============================] - 1s 276ms/step - loss: 2.6716 - accuracy: 0.6167\n",
      "Epoch 5/100\n",
      "5/5 [==============================] - 1s 285ms/step - loss: 2.0960 - accuracy: 0.6708\n",
      "Epoch 6/100\n",
      "5/5 [==============================] - 1s 292ms/step - loss: 1.1689 - accuracy: 0.6500\n",
      "Epoch 7/100\n",
      "5/5 [==============================] - 1s 290ms/step - loss: 0.5581 - accuracy: 0.7583\n",
      "Epoch 8/100\n",
      "5/5 [==============================] - 1s 286ms/step - loss: 0.3559 - accuracy: 0.8625\n",
      "Epoch 9/100\n",
      "5/5 [==============================] - 1s 288ms/step - loss: 0.5999 - accuracy: 0.8333\n",
      "Epoch 10/100\n",
      "5/5 [==============================] - 1s 280ms/step - loss: 0.4468 - accuracy: 0.8083\n",
      "Epoch 11/100\n",
      "5/5 [==============================] - 1s 283ms/step - loss: 0.2497 - accuracy: 0.9167\n",
      "Epoch 12/100\n",
      "5/5 [==============================] - 1s 293ms/step - loss: 0.2013 - accuracy: 0.9542\n",
      "Epoch 13/100\n",
      "5/5 [==============================] - 1s 284ms/step - loss: 0.1778 - accuracy: 0.9417\n",
      "Epoch 14/100\n",
      "5/5 [==============================] - 1s 292ms/step - loss: 0.1700 - accuracy: 0.9375\n",
      "Epoch 15/100\n",
      "5/5 [==============================] - 1s 288ms/step - loss: 0.1805 - accuracy: 0.9250\n",
      "Epoch 16/100\n",
      "5/5 [==============================] - 1s 292ms/step - loss: 0.2236 - accuracy: 0.9083\n",
      "Epoch 17/100\n",
      "5/5 [==============================] - 1s 285ms/step - loss: 0.1140 - accuracy: 0.9708\n",
      "Epoch 18/100\n",
      "5/5 [==============================] - 1s 288ms/step - loss: 0.0927 - accuracy: 0.9750\n",
      "Epoch 19/100\n",
      "5/5 [==============================] - 1s 288ms/step - loss: 0.1011 - accuracy: 0.9792\n",
      "Epoch 20/100\n",
      "5/5 [==============================] - 1s 292ms/step - loss: 0.1074 - accuracy: 0.9667\n",
      "Epoch 21/100\n",
      "5/5 [==============================] - 1s 280ms/step - loss: 0.1594 - accuracy: 0.9292\n",
      "Epoch 22/100\n",
      "5/5 [==============================] - 1s 289ms/step - loss: 0.2039 - accuracy: 0.9333\n",
      "Epoch 23/100\n",
      "5/5 [==============================] - 1s 299ms/step - loss: 0.1198 - accuracy: 0.9417\n",
      "Epoch 24/100\n",
      "5/5 [==============================] - 1s 285ms/step - loss: 0.0580 - accuracy: 0.9792\n",
      "Epoch 25/100\n",
      "5/5 [==============================] - 1s 288ms/step - loss: 0.0374 - accuracy: 0.9917\n",
      "Epoch 26/100\n",
      "5/5 [==============================] - 1s 285ms/step - loss: 0.0399 - accuracy: 0.9875\n",
      "Epoch 27/100\n",
      "5/5 [==============================] - 1s 286ms/step - loss: 0.0293 - accuracy: 0.9917\n",
      "Epoch 28/100\n",
      "5/5 [==============================] - 1s 292ms/step - loss: 0.0293 - accuracy: 0.9958\n",
      "Epoch 29/100\n",
      "5/5 [==============================] - 1s 282ms/step - loss: 0.0237 - accuracy: 0.9917\n",
      "Epoch 30/100\n",
      "5/5 [==============================] - 1s 292ms/step - loss: 0.0216 - accuracy: 0.9917\n",
      "Epoch 31/100\n",
      "5/5 [==============================] - 1s 302ms/step - loss: 0.0190 - accuracy: 0.9917\n",
      "Epoch 32/100\n",
      "5/5 [==============================] - 1s 295ms/step - loss: 0.0224 - accuracy: 0.9833\n",
      "Epoch 33/100\n",
      "5/5 [==============================] - 1s 299ms/step - loss: 0.0185 - accuracy: 0.9875\n",
      "Epoch 34/100\n",
      "5/5 [==============================] - 1s 300ms/step - loss: 0.0171 - accuracy: 0.9875\n",
      "Epoch 35/100\n",
      "5/5 [==============================] - 1s 297ms/step - loss: 0.0170 - accuracy: 0.9875\n",
      "Epoch 36/100\n",
      "5/5 [==============================] - 1s 298ms/step - loss: 0.0184 - accuracy: 0.9875\n",
      "Epoch 37/100\n",
      "5/5 [==============================] - 2s 305ms/step - loss: 0.0173 - accuracy: 0.9875\n",
      "Epoch 38/100\n",
      "5/5 [==============================] - 1s 288ms/step - loss: 0.0216 - accuracy: 0.9917\n",
      "Epoch 39/100\n",
      "5/5 [==============================] - 1s 279ms/step - loss: 0.0258 - accuracy: 0.9875\n",
      "Epoch 40/100\n",
      "5/5 [==============================] - 1s 277ms/step - loss: 0.1469 - accuracy: 0.9458\n",
      "Epoch 41/100\n",
      "5/5 [==============================] - 1s 296ms/step - loss: 0.5876 - accuracy: 0.8833\n",
      "Epoch 42/100\n",
      "5/5 [==============================] - 1s 294ms/step - loss: 0.5700 - accuracy: 0.8750\n",
      "Epoch 43/100\n",
      "5/5 [==============================] - 1s 290ms/step - loss: 0.2030 - accuracy: 0.9208\n",
      "Epoch 44/100\n",
      "5/5 [==============================] - 1s 294ms/step - loss: 0.3195 - accuracy: 0.8917\n",
      "Epoch 45/100\n",
      "5/5 [==============================] - 1s 291ms/step - loss: 0.1355 - accuracy: 0.9583\n",
      "Epoch 46/100\n",
      "5/5 [==============================] - 1s 293ms/step - loss: 0.0735 - accuracy: 0.9667\n",
      "Epoch 47/100\n",
      "5/5 [==============================] - 1s 286ms/step - loss: 0.0680 - accuracy: 0.9750\n",
      "Epoch 48/100\n",
      "5/5 [==============================] - 1s 285ms/step - loss: 0.0278 - accuracy: 0.9917\n",
      "Epoch 49/100\n",
      "5/5 [==============================] - 1s 282ms/step - loss: 0.0238 - accuracy: 0.9917\n",
      "Epoch 50/100\n",
      "5/5 [==============================] - 1s 286ms/step - loss: 0.0181 - accuracy: 0.9917\n",
      "Epoch 51/100\n",
      "5/5 [==============================] - 1s 300ms/step - loss: 0.0186 - accuracy: 0.9917\n",
      "Epoch 52/100\n",
      "5/5 [==============================] - 2s 310ms/step - loss: 0.0170 - accuracy: 0.9875\n",
      "Epoch 53/100\n",
      "5/5 [==============================] - 1s 296ms/step - loss: 0.0156 - accuracy: 0.9875\n",
      "Epoch 54/100\n",
      "5/5 [==============================] - 2s 311ms/step - loss: 0.0145 - accuracy: 0.9875\n",
      "Epoch 55/100\n",
      "5/5 [==============================] - 2s 318ms/step - loss: 0.0141 - accuracy: 0.9917\n",
      "Epoch 56/100\n",
      "5/5 [==============================] - 2s 300ms/step - loss: 0.0141 - accuracy: 0.9917\n",
      "Epoch 57/100\n",
      "5/5 [==============================] - 2s 305ms/step - loss: 0.0153 - accuracy: 0.9875\n",
      "Epoch 58/100\n",
      "5/5 [==============================] - 1s 288ms/step - loss: 0.0193 - accuracy: 0.9833\n",
      "Epoch 59/100\n",
      "5/5 [==============================] - 1s 296ms/step - loss: 0.0144 - accuracy: 0.9917\n",
      "Epoch 60/100\n",
      "5/5 [==============================] - 1s 287ms/step - loss: 0.0148 - accuracy: 0.9917\n",
      "Epoch 61/100\n",
      "5/5 [==============================] - 1s 290ms/step - loss: 0.0145 - accuracy: 0.9917\n",
      "Epoch 62/100\n",
      "5/5 [==============================] - 1s 275ms/step - loss: 0.0143 - accuracy: 0.9875\n",
      "Epoch 63/100\n",
      "5/5 [==============================] - 1s 286ms/step - loss: 0.0139 - accuracy: 0.9833\n",
      "Epoch 64/100\n",
      "5/5 [==============================] - 1s 291ms/step - loss: 0.0129 - accuracy: 0.9875\n",
      "Epoch 65/100\n",
      "5/5 [==============================] - 1s 298ms/step - loss: 0.0133 - accuracy: 0.9833\n",
      "Epoch 66/100\n",
      "5/5 [==============================] - 1s 292ms/step - loss: 0.0128 - accuracy: 0.9917\n",
      "Epoch 67/100\n",
      "5/5 [==============================] - 1s 289ms/step - loss: 0.0124 - accuracy: 0.9917\n",
      "Epoch 68/100\n",
      "5/5 [==============================] - 1s 295ms/step - loss: 0.0136 - accuracy: 0.9833\n",
      "Epoch 69/100\n",
      "5/5 [==============================] - 1s 286ms/step - loss: 0.0134 - accuracy: 0.9875\n",
      "Epoch 70/100\n",
      "5/5 [==============================] - 1s 292ms/step - loss: 0.0124 - accuracy: 0.9917\n",
      "Epoch 71/100\n",
      "5/5 [==============================] - 1s 286ms/step - loss: 0.0126 - accuracy: 0.9875\n",
      "Epoch 72/100\n",
      "5/5 [==============================] - 1s 287ms/step - loss: 0.0123 - accuracy: 0.9917\n",
      "Epoch 73/100\n",
      "5/5 [==============================] - 1s 292ms/step - loss: 0.0126 - accuracy: 0.9917\n",
      "Epoch 74/100\n",
      "5/5 [==============================] - 1s 285ms/step - loss: 0.0127 - accuracy: 0.9875\n",
      "Epoch 75/100\n",
      "5/5 [==============================] - 1s 294ms/step - loss: 0.0132 - accuracy: 0.9917\n",
      "Epoch 76/100\n",
      "5/5 [==============================] - 1s 294ms/step - loss: 0.0127 - accuracy: 0.9875\n",
      "Epoch 77/100\n",
      "5/5 [==============================] - 1s 290ms/step - loss: 0.0121 - accuracy: 0.9917\n",
      "Epoch 78/100\n",
      "5/5 [==============================] - 1s 283ms/step - loss: 0.0121 - accuracy: 0.9917\n",
      "Epoch 79/100\n",
      "5/5 [==============================] - 1s 300ms/step - loss: 0.0131 - accuracy: 0.9833\n",
      "Epoch 80/100\n",
      "5/5 [==============================] - 2s 315ms/step - loss: 0.0127 - accuracy: 0.9917\n",
      "Epoch 81/100\n",
      "5/5 [==============================] - 2s 307ms/step - loss: 0.0122 - accuracy: 0.9875\n",
      "Epoch 82/100\n",
      "5/5 [==============================] - 2s 312ms/step - loss: 0.0120 - accuracy: 0.9917\n",
      "Epoch 83/100\n"
     ]
    },
    {
     "name": "stdout",
     "output_type": "stream",
     "text": [
      "5/5 [==============================] - 1s 297ms/step - loss: 0.0131 - accuracy: 0.9917\n",
      "Epoch 84/100\n",
      "5/5 [==============================] - 2s 316ms/step - loss: 0.0134 - accuracy: 0.9917\n",
      "Epoch 85/100\n",
      "5/5 [==============================] - 2s 302ms/step - loss: 0.0124 - accuracy: 0.9917\n",
      "Epoch 86/100\n",
      "5/5 [==============================] - 2s 314ms/step - loss: 0.0124 - accuracy: 0.9875\n",
      "Epoch 87/100\n",
      "5/5 [==============================] - 2s 315ms/step - loss: 0.0128 - accuracy: 0.9917\n",
      "Epoch 88/100\n",
      "5/5 [==============================] - 2s 313ms/step - loss: 0.0126 - accuracy: 0.9875\n",
      "Epoch 89/100\n",
      "5/5 [==============================] - 2s 299ms/step - loss: 0.0131 - accuracy: 0.9875\n",
      "Epoch 90/100\n",
      "5/5 [==============================] - 1s 296ms/step - loss: 0.0126 - accuracy: 0.9875\n",
      "Epoch 91/100\n",
      "5/5 [==============================] - 2s 306ms/step - loss: 0.0122 - accuracy: 0.9917\n",
      "Epoch 92/100\n",
      "5/5 [==============================] - 1s 295ms/step - loss: 0.0140 - accuracy: 0.9917\n",
      "Epoch 93/100\n",
      "5/5 [==============================] - 2s 297ms/step - loss: 0.0124 - accuracy: 0.9917\n",
      "Epoch 94/100\n",
      "5/5 [==============================] - 1s 289ms/step - loss: 0.0118 - accuracy: 0.9917\n",
      "Epoch 95/100\n",
      "5/5 [==============================] - 1s 295ms/step - loss: 0.0138 - accuracy: 0.9875\n",
      "Epoch 96/100\n",
      "5/5 [==============================] - 2s 304ms/step - loss: 0.0126 - accuracy: 0.9917\n",
      "Epoch 97/100\n",
      "5/5 [==============================] - 1s 300ms/step - loss: 0.0134 - accuracy: 0.9917\n",
      "Epoch 98/100\n",
      "5/5 [==============================] - 1s 300ms/step - loss: 0.0124 - accuracy: 0.9875\n",
      "Epoch 99/100\n",
      "5/5 [==============================] - 1s 301ms/step - loss: 0.0119 - accuracy: 0.9875\n",
      "Epoch 100/100\n",
      "5/5 [==============================] - 1s 301ms/step - loss: 0.0134 - accuracy: 0.9875\n"
     ]
    },
    {
     "data": {
      "text/plain": [
       "<keras.callbacks.History at 0x256879f06d0>"
      ]
     },
     "execution_count": 13,
     "metadata": {},
     "output_type": "execute_result"
    }
   ],
   "source": [
    "ann.fit(X_train, y_train, batch_size = 50, epochs = 100)"
   ]
  },
  {
   "cell_type": "code",
   "execution_count": null,
   "id": "dff26bde",
   "metadata": {},
   "outputs": [],
   "source": []
  },
  {
   "cell_type": "code",
   "execution_count": 14,
   "id": "4c5621a4",
   "metadata": {},
   "outputs": [
    {
     "name": "stdout",
     "output_type": "stream",
     "text": [
      "3/3 [==============================] - 0s 28ms/step\n",
      "[[1 1]\n",
      " [1 0]\n",
      " [0 0]\n",
      " [1 1]\n",
      " [1 1]\n",
      " [0 0]\n",
      " [1 1]\n",
      " [1 1]\n",
      " [0 1]\n",
      " [1 1]\n",
      " [1 1]\n",
      " [1 1]\n",
      " [1 1]\n",
      " [1 0]\n",
      " [0 0]\n",
      " [0 0]\n",
      " [0 1]\n",
      " [1 0]\n",
      " [1 1]\n",
      " [1 0]\n",
      " [1 0]\n",
      " [0 1]\n",
      " [1 1]\n",
      " [0 0]\n",
      " [0 1]\n",
      " [0 1]\n",
      " [1 0]\n",
      " [1 1]\n",
      " [1 1]\n",
      " [1 1]\n",
      " [0 1]\n",
      " [1 1]\n",
      " [1 1]\n",
      " [1 1]\n",
      " [1 0]\n",
      " [0 0]\n",
      " [1 1]\n",
      " [1 1]\n",
      " [0 1]\n",
      " [0 0]\n",
      " [1 1]\n",
      " [0 0]\n",
      " [1 0]\n",
      " [0 1]\n",
      " [1 0]\n",
      " [1 1]\n",
      " [1 1]\n",
      " [0 0]\n",
      " [1 0]\n",
      " [1 1]\n",
      " [1 0]\n",
      " [0 1]\n",
      " [1 0]\n",
      " [1 1]\n",
      " [1 1]\n",
      " [1 1]\n",
      " [1 0]\n",
      " [1 1]\n",
      " [1 1]\n",
      " [0 0]\n",
      " [1 1]\n",
      " [0 1]\n",
      " [0 1]\n",
      " [1 1]\n",
      " [1 1]\n",
      " [1 1]\n",
      " [0 1]\n",
      " [0 1]\n",
      " [1 0]\n",
      " [1 0]\n",
      " [1 0]\n",
      " [1 1]\n",
      " [1 1]\n",
      " [1 1]\n",
      " [1 0]\n",
      " [1 1]\n",
      " [1 1]\n",
      " [0 1]\n",
      " [0 0]\n",
      " [0 0]\n",
      " [1 1]]\n"
     ]
    }
   ],
   "source": [
    "y_pred = ann.predict(X_test)\n",
    "y_pred = (y_pred > 0.5)\n",
    "print(np.concatenate((y_pred.reshape(len(y_pred),1), y_test.reshape(len(y_test),1)),1))"
   ]
  },
  {
   "cell_type": "code",
   "execution_count": 15,
   "id": "fa81c993",
   "metadata": {},
   "outputs": [
    {
     "name": "stdout",
     "output_type": "stream",
     "text": [
      "[[12 17]\n",
      " [14 38]]\n"
     ]
    },
    {
     "data": {
      "text/plain": [
       "0.6172839506172839"
      ]
     },
     "execution_count": 15,
     "metadata": {},
     "output_type": "execute_result"
    }
   ],
   "source": [
    "from sklearn.metrics import confusion_matrix, accuracy_score\n",
    "cm = confusion_matrix(y_test, y_pred)\n",
    "print(cm)\n",
    "accuracy_score(y_test, y_pred)"
   ]
  },
  {
   "cell_type": "code",
   "execution_count": null,
   "id": "568cc4a4",
   "metadata": {},
   "outputs": [],
   "source": []
  },
  {
   "cell_type": "code",
   "execution_count": null,
   "id": "bd873a96",
   "metadata": {},
   "outputs": [],
   "source": []
  },
  {
   "cell_type": "code",
   "execution_count": null,
   "id": "0ca6b79a",
   "metadata": {},
   "outputs": [],
   "source": []
  }
 ],
 "metadata": {
  "kernelspec": {
   "display_name": "Python 3 (ipykernel)",
   "language": "python",
   "name": "python3"
  },
  "language_info": {
   "codemirror_mode": {
    "name": "ipython",
    "version": 3
   },
   "file_extension": ".py",
   "mimetype": "text/x-python",
   "name": "python",
   "nbconvert_exporter": "python",
   "pygments_lexer": "ipython3",
   "version": "3.9.13"
  }
 },
 "nbformat": 4,
 "nbformat_minor": 5
}
