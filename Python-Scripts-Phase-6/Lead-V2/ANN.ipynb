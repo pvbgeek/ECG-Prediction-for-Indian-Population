{
 "cells": [
  {
   "cell_type": "code",
   "execution_count": 1,
   "id": "b345c27d",
   "metadata": {},
   "outputs": [
    {
     "name": "stdout",
     "output_type": "stream",
     "text": [
      "Done Boss !!\n"
     ]
    }
   ],
   "source": [
    "import numpy as np\n",
    "import pandas as pd\n",
    "print('Done Boss !!')"
   ]
  },
  {
   "cell_type": "code",
   "execution_count": 2,
   "id": "23a0b740",
   "metadata": {},
   "outputs": [
    {
     "name": "stdout",
     "output_type": "stream",
     "text": [
      "Done Boss !!\n"
     ]
    }
   ],
   "source": [
    "import tensorflow as tf\n",
    "print('Done Boss !!')"
   ]
  },
  {
   "cell_type": "code",
   "execution_count": 3,
   "id": "885d6d88",
   "metadata": {},
   "outputs": [],
   "source": [
    "dataset = pd.read_csv('Lead-V2.csv')\n",
    "X = dataset.iloc[:,:-1].values\n",
    "y = dataset.iloc[:, -1].values"
   ]
  },
  {
   "cell_type": "code",
   "execution_count": 4,
   "id": "d3c43eda",
   "metadata": {},
   "outputs": [
    {
     "name": "stdout",
     "output_type": "stream",
     "text": [
      "[[0.24489796 0.23469388 0.2244898  ... 0.67346939 0.66326531 0.66326531]\n",
      " [0.66204506 0.66031196 0.65857886 ... 0.98613518 0.99306759 1.        ]\n",
      " [0.68195719 0.68195719 0.67584098 ... 0.65443425 0.65749236 0.65137615]\n",
      " ...\n",
      " [0.32129964 0.31046931 0.29602888 ... 0.28519856 0.29241877 0.31768953]\n",
      " [0.77142857 0.76507936 0.75238095 ... 0.93333333 0.93333333 0.93333333]\n",
      " [0.59685864 0.59685864 0.58813264 ... 0.59685864 0.60034904 0.59162304]]\n"
     ]
    }
   ],
   "source": [
    "print(X)"
   ]
  },
  {
   "cell_type": "code",
   "execution_count": 5,
   "id": "d84b0114",
   "metadata": {},
   "outputs": [
    {
     "name": "stdout",
     "output_type": "stream",
     "text": [
      "[1 1 1 1 0 0 1 1 1 1 1 1 1 0 1 1 1 0 1 1 1 1 1 0 1 0 1 1 0 1 0 0 1 0 1 1 1\n",
      " 0 1 0 1 0 1 0 1 1 0 0 0 1 1 1 1 1 1 0 0 1 0 0 0 0 0 0 1 1 1 1 1 0 1 1 1 1\n",
      " 0 0 1 0 1 1 1 1 1 1 0 1 1 1 0 1 1 0 1 1 1 1 1 1 1 1 1 0 0 1 1 1 1 0 1 1 1\n",
      " 1 1 0 1 0 1 0 1 1 0 0 1 1 1 1 0 0 1 1 1 1 0 1 0 0 0 1 0 0 0 0 1 0 1 1 0 0\n",
      " 1 1 0 1 0 1 1 1 0 0 1 1 1 1 0 0 1 1 1 0 1 1 0 1 1 0 1 0 0 1 1 1 0 0 0 1 1\n",
      " 1 1 0 1 1 1 1 0 1 1 1 0 0 1 1 1 1 1 1 1 1 1 1 0 1 1 0 1 0 1 1 1 1 0 0 1 0\n",
      " 0 1 1 0 1 1 0 1 1 1 1 0 1 0 1 0 0 1 1 1 0 1 0 0 1 1 0 0 1 1 1 1 1 1 1 1 1\n",
      " 1 1 1 1 1 1 0 1 1 1 1 1 1 0 1 1 1 0 0 0 1 1 1 0 0 0 0 1 0 0 1 0 1 0 1 1 0\n",
      " 1 1 1 1 0 1 1 0 1 0 0 1 1 0 1 1 0 1 1 0 1 1 1 0 1 1 0 0 1 0 1 0 1 1 1 1 1\n",
      " 0 1 1 1 1 1 0 1 1 1 1 1 1 0 1 1 1 0 0 1 1 1 0 1 0 0 1 1 0 1 1 0 1 1 0 1 0\n",
      " 1 1 1 1 0 1 1 1 1 1 0 1 0 0 1 1 1 1 0 0 0 0 0 0 1 0 0 1 1 1 0 0 1 1 1 1 1\n",
      " 1 0 1 1 1 0 1 0 1 1 1 1 0 1 0 0 1 1 1 1 1 1 1 1 0 1 1 0 0 1 1 1 1 0 1 0 0\n",
      " 0 1 1 1 1 1 1 0 1 0 1 1 0 1 0 0 0 1 0 0 0 1 1 1 1 0 1 0 0 1 1 1 1 1 1 1 1\n",
      " 1 0 1 0 1 0 1 0 1 0 1 1 1 1 0 1 1 1 1 0 1 0 1 1 1 1 1 1 0 0 1 1 1 1 0 1 1\n",
      " 0 1 1 1 1 1 1 1 1 0 0 1 1 0 1 0 0 0 1 1 1 1 1 1 1 0 0 1 1 0 0 1 1 1 1 0 1\n",
      " 0 1 1 0 1 0 1 1 1 1 1 0 0 0 1 1 0 0 0 1 0 0 0 1 0 0 1 1 0 1 1 1 1]\n"
     ]
    }
   ],
   "source": [
    "print(y)"
   ]
  },
  {
   "cell_type": "code",
   "execution_count": 6,
   "id": "d7f28ed6",
   "metadata": {},
   "outputs": [
    {
     "name": "stdout",
     "output_type": "stream",
     "text": [
      "Done Boss !!\n"
     ]
    }
   ],
   "source": [
    "from sklearn.model_selection import train_test_split\n",
    "X_train, X_test, y_train, y_test = train_test_split(X, y, test_size = 0.25, random_state = 0)\n",
    "print('Done Boss !!')"
   ]
  },
  {
   "cell_type": "code",
   "execution_count": 7,
   "id": "aafcb862",
   "metadata": {},
   "outputs": [
    {
     "name": "stdout",
     "output_type": "stream",
     "text": [
      "Done Boss !!\n"
     ]
    }
   ],
   "source": [
    "from sklearn.preprocessing import StandardScaler\n",
    "sc = StandardScaler()\n",
    "X_train = sc.fit_transform(X_train)\n",
    "X_test = sc.transform(X_test)\n",
    "print('Done Boss !!')"
   ]
  },
  {
   "cell_type": "code",
   "execution_count": 8,
   "id": "a72c220c",
   "metadata": {},
   "outputs": [],
   "source": [
    "ann = tf.keras.models.Sequential()"
   ]
  },
  {
   "cell_type": "code",
   "execution_count": 9,
   "id": "3fc1ff64",
   "metadata": {},
   "outputs": [],
   "source": [
    "ann.add(tf.keras.layers.Dense(units=3700, activation='relu'))"
   ]
  },
  {
   "cell_type": "code",
   "execution_count": 10,
   "id": "7fdbca05",
   "metadata": {},
   "outputs": [],
   "source": [
    "ann.add(tf.keras.layers.Dense(units=3700, activation='relu'))"
   ]
  },
  {
   "cell_type": "code",
   "execution_count": 11,
   "id": "0a9e247c",
   "metadata": {},
   "outputs": [],
   "source": [
    "ann.add(tf.keras.layers.Dense(units=1, activation='sigmoid'))"
   ]
  },
  {
   "cell_type": "code",
   "execution_count": 12,
   "id": "50e01b97",
   "metadata": {},
   "outputs": [],
   "source": [
    "ann.compile(optimizer = 'adam', loss = 'binary_crossentropy', metrics = ['accuracy'])"
   ]
  },
  {
   "cell_type": "code",
   "execution_count": 13,
   "id": "3061a88b",
   "metadata": {},
   "outputs": [
    {
     "name": "stdout",
     "output_type": "stream",
     "text": [
      "Epoch 1/100\n",
      "9/9 [==============================] - 5s 311ms/step - loss: 8.8360 - accuracy: 0.5057\n",
      "Epoch 2/100\n",
      "9/9 [==============================] - 3s 298ms/step - loss: 5.3866 - accuracy: 0.5283\n",
      "Epoch 3/100\n",
      "9/9 [==============================] - 3s 296ms/step - loss: 1.3331 - accuracy: 0.6213\n",
      "Epoch 4/100\n",
      "9/9 [==============================] - 3s 295ms/step - loss: 0.7607 - accuracy: 0.6440\n",
      "Epoch 5/100\n",
      "9/9 [==============================] - 3s 296ms/step - loss: 0.6311 - accuracy: 0.7619\n",
      "Epoch 6/100\n",
      "9/9 [==============================] - 3s 296ms/step - loss: 0.8012 - accuracy: 0.7370\n",
      "Epoch 7/100\n",
      "9/9 [==============================] - 3s 307ms/step - loss: 0.7640 - accuracy: 0.7914\n",
      "Epoch 8/100\n",
      "9/9 [==============================] - 3s 332ms/step - loss: 0.6962 - accuracy: 0.7642\n",
      "Epoch 9/100\n",
      "9/9 [==============================] - 3s 345ms/step - loss: 0.4549 - accuracy: 0.8141\n",
      "Epoch 10/100\n",
      "9/9 [==============================] - 3s 340ms/step - loss: 0.3295 - accuracy: 0.9048\n",
      "Epoch 11/100\n",
      "9/9 [==============================] - 3s 324ms/step - loss: 0.2467 - accuracy: 0.9252\n",
      "Epoch 12/100\n",
      "9/9 [==============================] - 3s 331ms/step - loss: 0.2170 - accuracy: 0.9229\n",
      "Epoch 13/100\n",
      "9/9 [==============================] - 3s 347ms/step - loss: 0.1441 - accuracy: 0.9615\n",
      "Epoch 14/100\n",
      "9/9 [==============================] - 3s 321ms/step - loss: 0.1140 - accuracy: 0.9728\n",
      "Epoch 15/100\n",
      "9/9 [==============================] - 3s 317ms/step - loss: 1.2708 - accuracy: 0.7732\n",
      "Epoch 16/100\n",
      "9/9 [==============================] - 3s 341ms/step - loss: 1.1827 - accuracy: 0.7302\n",
      "Epoch 17/100\n",
      "9/9 [==============================] - 3s 331ms/step - loss: 0.3668 - accuracy: 0.8912\n",
      "Epoch 18/100\n",
      "9/9 [==============================] - 3s 325ms/step - loss: 0.1569 - accuracy: 0.9546\n",
      "Epoch 19/100\n",
      "9/9 [==============================] - 3s 304ms/step - loss: 0.4413 - accuracy: 0.9048\n",
      "Epoch 20/100\n",
      "9/9 [==============================] - 3s 294ms/step - loss: 0.4449 - accuracy: 0.9116\n",
      "Epoch 21/100\n",
      "9/9 [==============================] - 3s 300ms/step - loss: 0.1484 - accuracy: 0.9478\n",
      "Epoch 22/100\n",
      "9/9 [==============================] - 3s 301ms/step - loss: 0.0329 - accuracy: 0.9932\n",
      "Epoch 23/100\n",
      "9/9 [==============================] - 3s 301ms/step - loss: 0.0145 - accuracy: 1.0000\n",
      "Epoch 24/100\n",
      "9/9 [==============================] - 3s 298ms/step - loss: 0.0225 - accuracy: 0.9977\n",
      "Epoch 25/100\n",
      "9/9 [==============================] - 3s 296ms/step - loss: 0.0163 - accuracy: 0.9932\n",
      "Epoch 26/100\n",
      "9/9 [==============================] - 3s 315ms/step - loss: 0.0069 - accuracy: 1.0000\n",
      "Epoch 27/100\n",
      "9/9 [==============================] - 3s 315ms/step - loss: 0.0253 - accuracy: 0.9955\n",
      "Epoch 28/100\n",
      "9/9 [==============================] - 3s 335ms/step - loss: 0.0761 - accuracy: 0.9819\n",
      "Epoch 29/100\n",
      "9/9 [==============================] - 3s 318ms/step - loss: 0.7017 - accuracy: 0.8798\n",
      "Epoch 30/100\n",
      "9/9 [==============================] - 3s 328ms/step - loss: 0.8921 - accuracy: 0.8299\n",
      "Epoch 31/100\n",
      "9/9 [==============================] - 3s 340ms/step - loss: 0.6514 - accuracy: 0.8730\n",
      "Epoch 32/100\n",
      "9/9 [==============================] - 3s 339ms/step - loss: 1.2653 - accuracy: 0.8707\n",
      "Epoch 33/100\n",
      "9/9 [==============================] - 3s 330ms/step - loss: 0.1630 - accuracy: 0.9410\n",
      "Epoch 34/100\n",
      "9/9 [==============================] - 3s 317ms/step - loss: 0.0745 - accuracy: 0.9955\n",
      "Epoch 35/100\n",
      "9/9 [==============================] - 3s 350ms/step - loss: 0.0457 - accuracy: 0.9955\n",
      "Epoch 36/100\n",
      "9/9 [==============================] - 3s 319ms/step - loss: 0.0474 - accuracy: 0.9864\n",
      "Epoch 37/100\n",
      "9/9 [==============================] - 3s 312ms/step - loss: 0.0168 - accuracy: 0.9977\n",
      "Epoch 38/100\n",
      "9/9 [==============================] - 3s 312ms/step - loss: 0.0058 - accuracy: 1.0000\n",
      "Epoch 39/100\n",
      "9/9 [==============================] - 3s 316ms/step - loss: 0.0028 - accuracy: 1.0000\n",
      "Epoch 40/100\n",
      "9/9 [==============================] - 3s 339ms/step - loss: 0.0014 - accuracy: 1.0000\n",
      "Epoch 41/100\n",
      "9/9 [==============================] - 3s 317ms/step - loss: 0.0010 - accuracy: 1.0000\n",
      "Epoch 42/100\n",
      "9/9 [==============================] - 3s 300ms/step - loss: 7.0406e-04 - accuracy: 1.0000\n",
      "Epoch 43/100\n",
      "9/9 [==============================] - 3s 303ms/step - loss: 5.2786e-04 - accuracy: 1.0000\n",
      "Epoch 44/100\n",
      "9/9 [==============================] - 3s 318ms/step - loss: 3.4999e-04 - accuracy: 1.0000\n",
      "Epoch 45/100\n",
      "9/9 [==============================] - 3s 309ms/step - loss: 2.6255e-04 - accuracy: 1.0000\n",
      "Epoch 46/100\n",
      "9/9 [==============================] - 3s 323ms/step - loss: 2.6900e-04 - accuracy: 1.0000\n",
      "Epoch 47/100\n",
      "9/9 [==============================] - 3s 337ms/step - loss: 2.5772e-04 - accuracy: 1.0000\n",
      "Epoch 48/100\n",
      "9/9 [==============================] - 3s 319ms/step - loss: 0.0026 - accuracy: 1.0000\n",
      "Epoch 49/100\n",
      "9/9 [==============================] - 3s 329ms/step - loss: 1.5074 - accuracy: 0.9048\n",
      "Epoch 50/100\n",
      "9/9 [==============================] - 3s 316ms/step - loss: 1.9840 - accuracy: 0.7528\n",
      "Epoch 51/100\n",
      "9/9 [==============================] - 3s 306ms/step - loss: 0.7401 - accuracy: 0.8413\n",
      "Epoch 52/100\n",
      "9/9 [==============================] - 3s 311ms/step - loss: 0.1975 - accuracy: 0.9433\n",
      "Epoch 53/100\n",
      "9/9 [==============================] - 3s 309ms/step - loss: 0.4753 - accuracy: 0.9229\n",
      "Epoch 54/100\n",
      "9/9 [==============================] - 3s 305ms/step - loss: 0.1565 - accuracy: 0.9683\n",
      "Epoch 55/100\n",
      "9/9 [==============================] - 3s 299ms/step - loss: 0.0945 - accuracy: 0.9796\n",
      "Epoch 56/100\n",
      "9/9 [==============================] - 3s 311ms/step - loss: 0.0262 - accuracy: 0.9932\n",
      "Epoch 57/100\n",
      "9/9 [==============================] - 3s 320ms/step - loss: 0.0090 - accuracy: 1.0000\n",
      "Epoch 58/100\n",
      "9/9 [==============================] - 3s 317ms/step - loss: 0.0091 - accuracy: 0.9977\n",
      "Epoch 59/100\n",
      "9/9 [==============================] - 3s 336ms/step - loss: 0.0095 - accuracy: 0.9977\n",
      "Epoch 60/100\n",
      "9/9 [==============================] - 3s 351ms/step - loss: 0.0053 - accuracy: 0.9977\n",
      "Epoch 61/100\n",
      "9/9 [==============================] - 3s 314ms/step - loss: 0.0036 - accuracy: 1.0000\n",
      "Epoch 62/100\n",
      "9/9 [==============================] - 3s 301ms/step - loss: 0.0014 - accuracy: 1.0000\n",
      "Epoch 63/100\n",
      "9/9 [==============================] - 3s 305ms/step - loss: 0.0012 - accuracy: 1.0000\n",
      "Epoch 64/100\n",
      "9/9 [==============================] - 3s 305ms/step - loss: 7.4441e-04 - accuracy: 1.0000\n",
      "Epoch 65/100\n",
      "9/9 [==============================] - 3s 303ms/step - loss: 6.3267e-04 - accuracy: 1.0000\n",
      "Epoch 66/100\n",
      "9/9 [==============================] - 3s 304ms/step - loss: 4.9636e-04 - accuracy: 1.0000\n",
      "Epoch 67/100\n",
      "9/9 [==============================] - 3s 301ms/step - loss: 4.4394e-04 - accuracy: 1.0000\n",
      "Epoch 68/100\n",
      "9/9 [==============================] - 3s 304ms/step - loss: 3.8735e-04 - accuracy: 1.0000\n",
      "Epoch 69/100\n",
      "9/9 [==============================] - 3s 303ms/step - loss: 3.3599e-04 - accuracy: 1.0000\n",
      "Epoch 70/100\n",
      "9/9 [==============================] - 3s 307ms/step - loss: 2.9412e-04 - accuracy: 1.0000\n",
      "Epoch 71/100\n",
      "9/9 [==============================] - 3s 300ms/step - loss: 2.5456e-04 - accuracy: 1.0000\n",
      "Epoch 72/100\n",
      "9/9 [==============================] - 3s 302ms/step - loss: 2.2474e-04 - accuracy: 1.0000\n",
      "Epoch 73/100\n",
      "9/9 [==============================] - 3s 300ms/step - loss: 1.9875e-04 - accuracy: 1.0000\n",
      "Epoch 74/100\n",
      "9/9 [==============================] - 3s 302ms/step - loss: 1.7940e-04 - accuracy: 1.0000\n",
      "Epoch 75/100\n",
      "9/9 [==============================] - 3s 301ms/step - loss: 1.6028e-04 - accuracy: 1.0000\n",
      "Epoch 76/100\n",
      "9/9 [==============================] - 3s 302ms/step - loss: 1.4307e-04 - accuracy: 1.0000\n",
      "Epoch 77/100\n",
      "9/9 [==============================] - 3s 301ms/step - loss: 1.2702e-04 - accuracy: 1.0000\n",
      "Epoch 78/100\n",
      "9/9 [==============================] - 3s 300ms/step - loss: 1.1581e-04 - accuracy: 1.0000\n",
      "Epoch 79/100\n",
      "9/9 [==============================] - 3s 304ms/step - loss: 1.0350e-04 - accuracy: 1.0000\n",
      "Epoch 80/100\n",
      "9/9 [==============================] - 3s 300ms/step - loss: 9.4355e-05 - accuracy: 1.0000\n",
      "Epoch 81/100\n",
      "9/9 [==============================] - 3s 315ms/step - loss: 8.5810e-05 - accuracy: 1.0000\n",
      "Epoch 82/100\n"
     ]
    },
    {
     "name": "stdout",
     "output_type": "stream",
     "text": [
      "9/9 [==============================] - 3s 309ms/step - loss: 7.8542e-05 - accuracy: 1.0000\n",
      "Epoch 83/100\n",
      "9/9 [==============================] - 3s 307ms/step - loss: 7.1559e-05 - accuracy: 1.0000\n",
      "Epoch 84/100\n",
      "9/9 [==============================] - 3s 299ms/step - loss: 6.5328e-05 - accuracy: 1.0000\n",
      "Epoch 85/100\n",
      "9/9 [==============================] - 3s 305ms/step - loss: 6.0161e-05 - accuracy: 1.0000\n",
      "Epoch 86/100\n",
      "9/9 [==============================] - 3s 315ms/step - loss: 5.5536e-05 - accuracy: 1.0000\n",
      "Epoch 87/100\n",
      "9/9 [==============================] - 3s 302ms/step - loss: 5.1136e-05 - accuracy: 1.0000\n",
      "Epoch 88/100\n",
      "9/9 [==============================] - 3s 306ms/step - loss: 4.7319e-05 - accuracy: 1.0000\n",
      "Epoch 89/100\n",
      "9/9 [==============================] - 3s 301ms/step - loss: 4.3713e-05 - accuracy: 1.0000\n",
      "Epoch 90/100\n",
      "9/9 [==============================] - 3s 305ms/step - loss: 4.0624e-05 - accuracy: 1.0000\n",
      "Epoch 91/100\n",
      "9/9 [==============================] - 3s 303ms/step - loss: 3.7738e-05 - accuracy: 1.0000\n",
      "Epoch 92/100\n",
      "9/9 [==============================] - 3s 304ms/step - loss: 3.5436e-05 - accuracy: 1.0000\n",
      "Epoch 93/100\n",
      "9/9 [==============================] - 3s 305ms/step - loss: 3.2967e-05 - accuracy: 1.0000\n",
      "Epoch 94/100\n",
      "9/9 [==============================] - 3s 304ms/step - loss: 3.0746e-05 - accuracy: 1.0000\n",
      "Epoch 95/100\n",
      "9/9 [==============================] - 3s 304ms/step - loss: 2.8795e-05 - accuracy: 1.0000\n",
      "Epoch 96/100\n",
      "9/9 [==============================] - 3s 303ms/step - loss: 2.7105e-05 - accuracy: 1.0000\n",
      "Epoch 97/100\n",
      "9/9 [==============================] - 3s 306ms/step - loss: 2.5447e-05 - accuracy: 1.0000\n",
      "Epoch 98/100\n",
      "9/9 [==============================] - 3s 309ms/step - loss: 2.4166e-05 - accuracy: 1.0000\n",
      "Epoch 99/100\n",
      "9/9 [==============================] - 3s 302ms/step - loss: 2.2814e-05 - accuracy: 1.0000\n",
      "Epoch 100/100\n",
      "9/9 [==============================] - 3s 305ms/step - loss: 2.1654e-05 - accuracy: 1.0000\n"
     ]
    },
    {
     "data": {
      "text/plain": [
       "<keras.callbacks.History at 0x1ea99702340>"
      ]
     },
     "execution_count": 13,
     "metadata": {},
     "output_type": "execute_result"
    }
   ],
   "source": [
    "ann.fit(X_train, y_train, batch_size = 50, epochs = 100)"
   ]
  },
  {
   "cell_type": "code",
   "execution_count": null,
   "id": "dff26bde",
   "metadata": {},
   "outputs": [],
   "source": []
  },
  {
   "cell_type": "code",
   "execution_count": 14,
   "id": "4c5621a4",
   "metadata": {},
   "outputs": [
    {
     "name": "stdout",
     "output_type": "stream",
     "text": [
      "5/5 [==============================] - 0s 32ms/step\n",
      "[[1 1]\n",
      " [0 1]\n",
      " [1 0]\n",
      " [0 1]\n",
      " [0 1]\n",
      " [1 0]\n",
      " [1 0]\n",
      " [0 1]\n",
      " [1 1]\n",
      " [1 0]\n",
      " [1 0]\n",
      " [1 0]\n",
      " [1 1]\n",
      " [0 0]\n",
      " [1 1]\n",
      " [0 0]\n",
      " [0 1]\n",
      " [1 1]\n",
      " [1 1]\n",
      " [1 1]\n",
      " [1 1]\n",
      " [0 1]\n",
      " [1 1]\n",
      " [0 1]\n",
      " [1 0]\n",
      " [1 1]\n",
      " [1 0]\n",
      " [1 1]\n",
      " [1 1]\n",
      " [1 1]\n",
      " [0 1]\n",
      " [0 1]\n",
      " [1 1]\n",
      " [0 0]\n",
      " [0 0]\n",
      " [1 1]\n",
      " [1 1]\n",
      " [1 0]\n",
      " [0 1]\n",
      " [1 0]\n",
      " [0 0]\n",
      " [1 1]\n",
      " [0 1]\n",
      " [1 1]\n",
      " [1 1]\n",
      " [1 0]\n",
      " [0 0]\n",
      " [1 1]\n",
      " [0 0]\n",
      " [1 1]\n",
      " [1 0]\n",
      " [1 1]\n",
      " [1 1]\n",
      " [1 1]\n",
      " [1 1]\n",
      " [1 1]\n",
      " [0 1]\n",
      " [1 1]\n",
      " [1 1]\n",
      " [0 0]\n",
      " [1 1]\n",
      " [1 1]\n",
      " [1 1]\n",
      " [1 1]\n",
      " [1 1]\n",
      " [0 0]\n",
      " [0 1]\n",
      " [1 0]\n",
      " [1 0]\n",
      " [0 1]\n",
      " [0 0]\n",
      " [1 0]\n",
      " [0 0]\n",
      " [1 1]\n",
      " [0 1]\n",
      " [1 1]\n",
      " [0 1]\n",
      " [0 1]\n",
      " [0 1]\n",
      " [1 1]\n",
      " [1 0]\n",
      " [1 1]\n",
      " [1 0]\n",
      " [1 1]\n",
      " [1 0]\n",
      " [1 0]\n",
      " [1 0]\n",
      " [1 1]\n",
      " [0 0]\n",
      " [1 1]\n",
      " [1 1]\n",
      " [1 1]\n",
      " [0 1]\n",
      " [0 0]\n",
      " [0 1]\n",
      " [1 1]\n",
      " [1 1]\n",
      " [1 0]\n",
      " [1 0]\n",
      " [0 1]\n",
      " [1 0]\n",
      " [1 1]\n",
      " [1 1]\n",
      " [1 1]\n",
      " [0 1]\n",
      " [0 1]\n",
      " [1 1]\n",
      " [1 1]\n",
      " [1 0]\n",
      " [1 0]\n",
      " [0 0]\n",
      " [1 1]\n",
      " [0 1]\n",
      " [1 1]\n",
      " [1 1]\n",
      " [1 1]\n",
      " [0 1]\n",
      " [1 1]\n",
      " [1 1]\n",
      " [1 1]\n",
      " [1 1]\n",
      " [1 1]\n",
      " [1 1]\n",
      " [0 0]\n",
      " [1 1]\n",
      " [0 1]\n",
      " [0 1]\n",
      " [1 1]\n",
      " [1 1]\n",
      " [1 1]\n",
      " [1 0]\n",
      " [1 1]\n",
      " [1 1]\n",
      " [1 1]\n",
      " [0 1]\n",
      " [1 0]\n",
      " [1 1]\n",
      " [0 1]\n",
      " [1 0]\n",
      " [1 0]\n",
      " [1 1]\n",
      " [1 1]\n",
      " [0 0]\n",
      " [0 1]\n",
      " [0 1]\n",
      " [0 0]\n",
      " [0 1]]\n"
     ]
    }
   ],
   "source": [
    "y_pred = ann.predict(X_test)\n",
    "y_pred = (y_pred > 0.5)\n",
    "print(np.concatenate((y_pred.reshape(len(y_pred),1), y_test.reshape(len(y_test),1)),1))"
   ]
  },
  {
   "cell_type": "code",
   "execution_count": 15,
   "id": "fa81c993",
   "metadata": {},
   "outputs": [
    {
     "name": "stdout",
     "output_type": "stream",
     "text": [
      "[[17 29]\n",
      " [32 69]]\n"
     ]
    },
    {
     "data": {
      "text/plain": [
       "0.5850340136054422"
      ]
     },
     "execution_count": 15,
     "metadata": {},
     "output_type": "execute_result"
    }
   ],
   "source": [
    "from sklearn.metrics import confusion_matrix, accuracy_score\n",
    "cm = confusion_matrix(y_test, y_pred)\n",
    "print(cm)\n",
    "accuracy_score(y_test, y_pred)"
   ]
  },
  {
   "cell_type": "code",
   "execution_count": null,
   "id": "568cc4a4",
   "metadata": {},
   "outputs": [],
   "source": []
  },
  {
   "cell_type": "code",
   "execution_count": null,
   "id": "bd873a96",
   "metadata": {},
   "outputs": [],
   "source": []
  },
  {
   "cell_type": "code",
   "execution_count": null,
   "id": "0ca6b79a",
   "metadata": {},
   "outputs": [],
   "source": []
  }
 ],
 "metadata": {
  "kernelspec": {
   "display_name": "Python 3 (ipykernel)",
   "language": "python",
   "name": "python3"
  },
  "language_info": {
   "codemirror_mode": {
    "name": "ipython",
    "version": 3
   },
   "file_extension": ".py",
   "mimetype": "text/x-python",
   "name": "python",
   "nbconvert_exporter": "python",
   "pygments_lexer": "ipython3",
   "version": "3.9.13"
  }
 },
 "nbformat": 4,
 "nbformat_minor": 5
}
