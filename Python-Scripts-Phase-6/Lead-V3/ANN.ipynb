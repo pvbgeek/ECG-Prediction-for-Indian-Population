{
 "cells": [
  {
   "cell_type": "code",
   "execution_count": 1,
   "id": "b345c27d",
   "metadata": {},
   "outputs": [
    {
     "name": "stdout",
     "output_type": "stream",
     "text": [
      "Done Boss !!\n"
     ]
    }
   ],
   "source": [
    "import numpy as np\n",
    "import pandas as pd\n",
    "print('Done Boss !!')"
   ]
  },
  {
   "cell_type": "code",
   "execution_count": 2,
   "id": "23a0b740",
   "metadata": {},
   "outputs": [
    {
     "name": "stdout",
     "output_type": "stream",
     "text": [
      "Done Boss !!\n"
     ]
    }
   ],
   "source": [
    "import tensorflow as tf\n",
    "print('Done Boss !!')"
   ]
  },
  {
   "cell_type": "code",
   "execution_count": 3,
   "id": "885d6d88",
   "metadata": {},
   "outputs": [
    {
     "name": "stdout",
     "output_type": "stream",
     "text": [
      "Done Boss !!\n"
     ]
    }
   ],
   "source": [
    "dataset = pd.read_csv('Lead-V3.csv')\n",
    "X = dataset.iloc[:,:-1].values\n",
    "y = dataset.iloc[:, -1].values\n",
    "print('Done Boss !!')"
   ]
  },
  {
   "cell_type": "code",
   "execution_count": 4,
   "id": "d3c43eda",
   "metadata": {},
   "outputs": [
    {
     "name": "stdout",
     "output_type": "stream",
     "text": [
      "[[0.40677966 0.4039548  0.40112994 ... 0.71186441 0.70338983 0.69774011]\n",
      " [0.71125265 0.70912951 0.71125265 ... 0.91932059 0.92569002 0.92569002]\n",
      " [0.43808256 0.43808256 0.43408788 ... 0.39147803 0.38881491 0.38881491]\n",
      " ...\n",
      " [0.23033708 0.22752809 0.21629213 ... 0.1741573  0.18820225 0.21067416]\n",
      " [0.70438799 0.69745958 0.69053118 ... 0.89838337 0.89838337 0.90069284]\n",
      " [0.55495251 0.55223881 0.54545455 ... 0.54816825 0.55088195 0.54409769]]\n"
     ]
    }
   ],
   "source": [
    "print(X)"
   ]
  },
  {
   "cell_type": "code",
   "execution_count": 5,
   "id": "d84b0114",
   "metadata": {},
   "outputs": [
    {
     "name": "stdout",
     "output_type": "stream",
     "text": [
      "[1 1 1 1 0 0 1 1 1 1 1 1 1 0 1 1 1 0 1 1 1 1 1 0 1 0 1 1 0 1 0 0 1 0 1 1 1\n",
      " 0 1 0 1 0 1 0 1 1 0 0 0 1 1 1 1 1 1 0 0 1 0 0 0 0 0 0 1 1 1 1 1 0 1 1 1 1\n",
      " 0 0 1 0 1 1 1 1 1 1 0 1 1 1 0 1 1 0 1 1 1 1 1 1 1 1 1 0 0 1 1 1 1 0 1 1 1\n",
      " 1 1 0 1 0 1 0 1 1 0 0 1 1 1 1 0 0 1 1 1 1 0 1 0 0 0 1 0 0 0 0 1 0 1 1 0 0\n",
      " 1 1 0 1 0 1 1 1 0 0 1 1 1 1 0 0 1 1 1 0 1 1 0 1 1 0 1 0 0 1 1 1 0 0 0 1 1\n",
      " 1 1 0 1 1 1 1 0 1 1 1 0 0 1 1 1 1 1 1 1 1 1 1 0 1 1 0 1 0 1 1 1 1 0 0 1 0\n",
      " 0 1 1 0 1 1 0 1 1 1 1 0 1 0 1 0 0 1 1 1 0 1 0 0 1 1 0 0 1 1 1 1 1 1 1 1 1\n",
      " 1 1 1 1 1 1 0 1 1 1 1 1 1 0 1 1 1 0 0 0 1 1 1 0 0 0 0 1 0 0 1 0 1 0 1 1 0\n",
      " 1 1 1 1 0 1 1 0 1 0 0 1 1 0 1 1 0 1 1 0 1 1 1 0 1 1 0 0 1 0 1 0 1 1 1 1 1\n",
      " 0 1 1 1 1 1 0 1 1 1 1 1 1 0 1 1 1 0 0 1 1 1 0 1 0 0 1 1 0 1 1 0 1 1 0 1 0\n",
      " 1 1 1 1 0 1 1 1 1 1 0 1 0 0 1 1 1 1 0 0 0 0 0 0 1 0 0 1 1 1 0 0 1 1 1 1 1\n",
      " 1 0 1 1 1 0 1 0 1 1 1 1 0 1 0 0 1 1 1 1 1 1 1 1 0 1 1 0 0 1 1 1 1 0 1 0 0\n",
      " 0 1 1 1 1 1 1 0 1 0 1 1 0 1 0 0 0 1 0 0 0 1 1 1 1 0 1 0 0 1 1 1 1 1 1 1 1\n",
      " 1 0 1 0 1 0 1 0 1 0 1 1 1 1 0 1 1 1 1 0 1 0 1 1 1 1 1 1 0 0 1 1 1 1 0 1 1\n",
      " 0 1 1 1 1 1 1 1 1 0 0 1 1 0 1 0 0 0 1 1 1 1 1 1 1 0 0 1 1 0 0 1 1 1 1 0 1\n",
      " 0 1 1 0 1 0 1 1 1 1 1 0 0 0 1 1 0 0 0 1 0 0 0 1 0 0 1 1 0 1 1 1 1]\n"
     ]
    }
   ],
   "source": [
    "print(y)"
   ]
  },
  {
   "cell_type": "code",
   "execution_count": 6,
   "id": "d7f28ed6",
   "metadata": {},
   "outputs": [
    {
     "name": "stdout",
     "output_type": "stream",
     "text": [
      "Done Boss !!\n"
     ]
    }
   ],
   "source": [
    "from sklearn.model_selection import train_test_split\n",
    "X_train, X_test, y_train, y_test = train_test_split(X, y, test_size = 0.25, random_state = 0)\n",
    "print('Done Boss !!')"
   ]
  },
  {
   "cell_type": "code",
   "execution_count": 7,
   "id": "aafcb862",
   "metadata": {},
   "outputs": [
    {
     "name": "stdout",
     "output_type": "stream",
     "text": [
      "Done Boss !!\n"
     ]
    }
   ],
   "source": [
    "from sklearn.preprocessing import StandardScaler\n",
    "sc = StandardScaler()\n",
    "X_train = sc.fit_transform(X_train)\n",
    "X_test = sc.transform(X_test)\n",
    "print('Done Boss !!')"
   ]
  },
  {
   "cell_type": "code",
   "execution_count": 8,
   "id": "a72c220c",
   "metadata": {},
   "outputs": [],
   "source": [
    "ann = tf.keras.models.Sequential()"
   ]
  },
  {
   "cell_type": "code",
   "execution_count": 9,
   "id": "3fc1ff64",
   "metadata": {},
   "outputs": [],
   "source": [
    "ann.add(tf.keras.layers.Dense(units=3700, activation='relu'))"
   ]
  },
  {
   "cell_type": "code",
   "execution_count": 10,
   "id": "7fdbca05",
   "metadata": {},
   "outputs": [],
   "source": [
    "ann.add(tf.keras.layers.Dense(units=3700, activation='relu'))"
   ]
  },
  {
   "cell_type": "code",
   "execution_count": 11,
   "id": "0a9e247c",
   "metadata": {},
   "outputs": [],
   "source": [
    "ann.add(tf.keras.layers.Dense(units=1, activation='sigmoid'))"
   ]
  },
  {
   "cell_type": "code",
   "execution_count": 12,
   "id": "50e01b97",
   "metadata": {},
   "outputs": [],
   "source": [
    "ann.compile(optimizer = 'adam', loss = 'binary_crossentropy', metrics = ['accuracy'])"
   ]
  },
  {
   "cell_type": "code",
   "execution_count": 13,
   "id": "3061a88b",
   "metadata": {},
   "outputs": [
    {
     "name": "stdout",
     "output_type": "stream",
     "text": [
      "Epoch 1/100\n",
      "9/9 [==============================] - 5s 297ms/step - loss: 10.6069 - accuracy: 0.4921\n",
      "Epoch 2/100\n",
      "9/9 [==============================] - 3s 300ms/step - loss: 2.7332 - accuracy: 0.5533\n",
      "Epoch 3/100\n",
      "9/9 [==============================] - 3s 297ms/step - loss: 1.8260 - accuracy: 0.5510\n",
      "Epoch 4/100\n",
      "9/9 [==============================] - 3s 299ms/step - loss: 1.0989 - accuracy: 0.6576\n",
      "Epoch 5/100\n",
      "9/9 [==============================] - 3s 307ms/step - loss: 0.6649 - accuracy: 0.7166\n",
      "Epoch 6/100\n",
      "9/9 [==============================] - 3s 299ms/step - loss: 0.4270 - accuracy: 0.8345\n",
      "Epoch 7/100\n",
      "9/9 [==============================] - 3s 302ms/step - loss: 0.3644 - accuracy: 0.8912\n",
      "Epoch 8/100\n",
      "9/9 [==============================] - 3s 299ms/step - loss: 0.3214 - accuracy: 0.9138\n",
      "Epoch 9/100\n",
      "9/9 [==============================] - 3s 298ms/step - loss: 0.2426 - accuracy: 0.9592\n",
      "Epoch 10/100\n",
      "9/9 [==============================] - 3s 301ms/step - loss: 0.2088 - accuracy: 0.9569\n",
      "Epoch 11/100\n",
      "9/9 [==============================] - 3s 299ms/step - loss: 0.5315 - accuracy: 0.8707\n",
      "Epoch 12/100\n",
      "9/9 [==============================] - 3s 298ms/step - loss: 0.6914 - accuracy: 0.8526\n",
      "Epoch 13/100\n",
      "9/9 [==============================] - 3s 298ms/step - loss: 0.3272 - accuracy: 0.8866\n",
      "Epoch 14/100\n",
      "9/9 [==============================] - 3s 299ms/step - loss: 0.1505 - accuracy: 0.9683\n",
      "Epoch 15/100\n",
      "9/9 [==============================] - 3s 301ms/step - loss: 0.1483 - accuracy: 0.9501\n",
      "Epoch 16/100\n",
      "9/9 [==============================] - 3s 301ms/step - loss: 0.1094 - accuracy: 0.9773\n",
      "Epoch 17/100\n",
      "9/9 [==============================] - 3s 299ms/step - loss: 0.0866 - accuracy: 0.9705\n",
      "Epoch 18/100\n",
      "9/9 [==============================] - 3s 300ms/step - loss: 0.2231 - accuracy: 0.9524\n",
      "Epoch 19/100\n",
      "9/9 [==============================] - 3s 308ms/step - loss: 0.3040 - accuracy: 0.9320\n",
      "Epoch 20/100\n",
      "9/9 [==============================] - 3s 296ms/step - loss: 0.1127 - accuracy: 0.9728\n",
      "Epoch 21/100\n",
      "9/9 [==============================] - 3s 310ms/step - loss: 0.0426 - accuracy: 0.9932\n",
      "Epoch 22/100\n",
      "9/9 [==============================] - 3s 308ms/step - loss: 0.0324 - accuracy: 0.9977\n",
      "Epoch 23/100\n",
      "9/9 [==============================] - 3s 328ms/step - loss: 0.0173 - accuracy: 1.0000\n",
      "Epoch 24/100\n",
      "9/9 [==============================] - 3s 312ms/step - loss: 0.0109 - accuracy: 1.0000\n",
      "Epoch 25/100\n",
      "9/9 [==============================] - 3s 312ms/step - loss: 0.0090 - accuracy: 1.0000\n",
      "Epoch 26/100\n",
      "9/9 [==============================] - 3s 302ms/step - loss: 0.0064 - accuracy: 1.0000\n",
      "Epoch 27/100\n",
      "9/9 [==============================] - 3s 299ms/step - loss: 0.0071 - accuracy: 1.0000\n",
      "Epoch 28/100\n",
      "9/9 [==============================] - 3s 314ms/step - loss: 0.0100 - accuracy: 0.9977\n",
      "Epoch 29/100\n",
      "9/9 [==============================] - 3s 306ms/step - loss: 0.0044 - accuracy: 1.0000\n",
      "Epoch 30/100\n",
      "9/9 [==============================] - 3s 300ms/step - loss: 0.0051 - accuracy: 1.0000\n",
      "Epoch 31/100\n",
      "9/9 [==============================] - 3s 304ms/step - loss: 0.0364 - accuracy: 0.9887\n",
      "Epoch 32/100\n",
      "9/9 [==============================] - 3s 300ms/step - loss: 0.0578 - accuracy: 0.9773\n",
      "Epoch 33/100\n",
      "9/9 [==============================] - 3s 299ms/step - loss: 0.0070 - accuracy: 0.9977\n",
      "Epoch 34/100\n",
      "9/9 [==============================] - 3s 307ms/step - loss: 0.0096 - accuracy: 1.0000\n",
      "Epoch 35/100\n",
      "9/9 [==============================] - 3s 312ms/step - loss: 0.0110 - accuracy: 0.9977\n",
      "Epoch 36/100\n",
      "9/9 [==============================] - 3s 302ms/step - loss: 0.1504 - accuracy: 0.9660\n",
      "Epoch 37/100\n",
      "9/9 [==============================] - 3s 300ms/step - loss: 0.0248 - accuracy: 0.9909\n",
      "Epoch 38/100\n",
      "9/9 [==============================] - 3s 321ms/step - loss: 0.0097 - accuracy: 0.9977\n",
      "Epoch 39/100\n",
      "9/9 [==============================] - 3s 315ms/step - loss: 0.0060 - accuracy: 1.0000\n",
      "Epoch 40/100\n",
      "9/9 [==============================] - 3s 314ms/step - loss: 0.0033 - accuracy: 1.0000\n",
      "Epoch 41/100\n",
      "9/9 [==============================] - 3s 297ms/step - loss: 0.0023 - accuracy: 1.0000\n",
      "Epoch 42/100\n",
      "9/9 [==============================] - 3s 301ms/step - loss: 0.0016 - accuracy: 1.0000\n",
      "Epoch 43/100\n",
      "9/9 [==============================] - 3s 304ms/step - loss: 0.0011 - accuracy: 1.0000\n",
      "Epoch 44/100\n",
      "9/9 [==============================] - 3s 301ms/step - loss: 7.4433e-04 - accuracy: 1.0000\n",
      "Epoch 45/100\n",
      "9/9 [==============================] - 3s 302ms/step - loss: 5.4729e-04 - accuracy: 1.0000\n",
      "Epoch 46/100\n",
      "9/9 [==============================] - 3s 307ms/step - loss: 4.0944e-04 - accuracy: 1.0000\n",
      "Epoch 47/100\n",
      "9/9 [==============================] - 3s 312ms/step - loss: 3.1797e-04 - accuracy: 1.0000\n",
      "Epoch 48/100\n",
      "9/9 [==============================] - 3s 308ms/step - loss: 2.6462e-04 - accuracy: 1.0000\n",
      "Epoch 49/100\n",
      "9/9 [==============================] - 3s 309ms/step - loss: 2.1671e-04 - accuracy: 1.0000\n",
      "Epoch 50/100\n",
      "9/9 [==============================] - 3s 303ms/step - loss: 1.8608e-04 - accuracy: 1.0000\n",
      "Epoch 51/100\n",
      "9/9 [==============================] - 3s 302ms/step - loss: 1.6268e-04 - accuracy: 1.0000\n",
      "Epoch 52/100\n",
      "9/9 [==============================] - 3s 300ms/step - loss: 1.4122e-04 - accuracy: 1.0000\n",
      "Epoch 53/100\n",
      "9/9 [==============================] - 3s 308ms/step - loss: 1.2668e-04 - accuracy: 1.0000\n",
      "Epoch 54/100\n",
      "9/9 [==============================] - 3s 306ms/step - loss: 1.1294e-04 - accuracy: 1.0000\n",
      "Epoch 55/100\n",
      "9/9 [==============================] - 3s 298ms/step - loss: 1.0286e-04 - accuracy: 1.0000\n",
      "Epoch 56/100\n",
      "9/9 [==============================] - 3s 298ms/step - loss: 9.3461e-05 - accuracy: 1.0000\n",
      "Epoch 57/100\n",
      "9/9 [==============================] - 3s 303ms/step - loss: 8.5753e-05 - accuracy: 1.0000\n",
      "Epoch 58/100\n",
      "9/9 [==============================] - 3s 299ms/step - loss: 7.8468e-05 - accuracy: 1.0000\n",
      "Epoch 59/100\n",
      "9/9 [==============================] - 3s 306ms/step - loss: 7.2737e-05 - accuracy: 1.0000\n",
      "Epoch 60/100\n",
      "9/9 [==============================] - 3s 307ms/step - loss: 6.7637e-05 - accuracy: 1.0000\n",
      "Epoch 61/100\n",
      "9/9 [==============================] - 3s 304ms/step - loss: 6.2473e-05 - accuracy: 1.0000\n",
      "Epoch 62/100\n",
      "9/9 [==============================] - 3s 303ms/step - loss: 5.9240e-05 - accuracy: 1.0000\n",
      "Epoch 63/100\n",
      "9/9 [==============================] - 3s 305ms/step - loss: 5.4844e-05 - accuracy: 1.0000\n",
      "Epoch 64/100\n",
      "9/9 [==============================] - 3s 303ms/step - loss: 5.1598e-05 - accuracy: 1.0000\n",
      "Epoch 65/100\n",
      "9/9 [==============================] - 3s 299ms/step - loss: 4.8567e-05 - accuracy: 1.0000\n",
      "Epoch 66/100\n",
      "9/9 [==============================] - 3s 299ms/step - loss: 4.5812e-05 - accuracy: 1.0000\n",
      "Epoch 67/100\n",
      "9/9 [==============================] - 3s 299ms/step - loss: 4.3274e-05 - accuracy: 1.0000\n",
      "Epoch 68/100\n",
      "9/9 [==============================] - 3s 295ms/step - loss: 4.0940e-05 - accuracy: 1.0000\n",
      "Epoch 69/100\n",
      "9/9 [==============================] - 3s 300ms/step - loss: 3.8938e-05 - accuracy: 1.0000\n",
      "Epoch 70/100\n",
      "9/9 [==============================] - 3s 299ms/step - loss: 3.6915e-05 - accuracy: 1.0000\n",
      "Epoch 71/100\n",
      "9/9 [==============================] - 3s 296ms/step - loss: 3.5169e-05 - accuracy: 1.0000\n",
      "Epoch 72/100\n",
      "9/9 [==============================] - 3s 299ms/step - loss: 3.3453e-05 - accuracy: 1.0000\n",
      "Epoch 73/100\n",
      "9/9 [==============================] - 3s 301ms/step - loss: 3.1976e-05 - accuracy: 1.0000\n",
      "Epoch 74/100\n",
      "9/9 [==============================] - 3s 298ms/step - loss: 3.0539e-05 - accuracy: 1.0000\n",
      "Epoch 75/100\n",
      "9/9 [==============================] - 3s 312ms/step - loss: 2.9300e-05 - accuracy: 1.0000\n",
      "Epoch 76/100\n",
      "9/9 [==============================] - 3s 319ms/step - loss: 2.8024e-05 - accuracy: 1.0000\n",
      "Epoch 77/100\n",
      "9/9 [==============================] - 3s 316ms/step - loss: 2.6922e-05 - accuracy: 1.0000\n",
      "Epoch 78/100\n",
      "9/9 [==============================] - 3s 305ms/step - loss: 2.5773e-05 - accuracy: 1.0000\n",
      "Epoch 79/100\n",
      "9/9 [==============================] - 3s 300ms/step - loss: 2.4820e-05 - accuracy: 1.0000\n",
      "Epoch 80/100\n",
      "9/9 [==============================] - 3s 302ms/step - loss: 2.3897e-05 - accuracy: 1.0000\n",
      "Epoch 81/100\n"
     ]
    },
    {
     "name": "stdout",
     "output_type": "stream",
     "text": [
      "9/9 [==============================] - 3s 307ms/step - loss: 2.2985e-05 - accuracy: 1.0000\n",
      "Epoch 82/100\n",
      "9/9 [==============================] - 3s 301ms/step - loss: 2.2123e-05 - accuracy: 1.0000\n",
      "Epoch 83/100\n",
      "9/9 [==============================] - 3s 304ms/step - loss: 2.1356e-05 - accuracy: 1.0000\n",
      "Epoch 84/100\n",
      "9/9 [==============================] - 3s 303ms/step - loss: 2.0607e-05 - accuracy: 1.0000\n",
      "Epoch 85/100\n",
      "9/9 [==============================] - 3s 300ms/step - loss: 1.9904e-05 - accuracy: 1.0000\n",
      "Epoch 86/100\n",
      "9/9 [==============================] - 3s 302ms/step - loss: 1.9214e-05 - accuracy: 1.0000\n",
      "Epoch 87/100\n",
      "9/9 [==============================] - 3s 305ms/step - loss: 1.8546e-05 - accuracy: 1.0000\n",
      "Epoch 88/100\n",
      "9/9 [==============================] - 3s 303ms/step - loss: 1.8035e-05 - accuracy: 1.0000\n",
      "Epoch 89/100\n",
      "9/9 [==============================] - 3s 301ms/step - loss: 1.7382e-05 - accuracy: 1.0000\n",
      "Epoch 90/100\n",
      "9/9 [==============================] - 3s 304ms/step - loss: 1.6905e-05 - accuracy: 1.0000\n",
      "Epoch 91/100\n",
      "9/9 [==============================] - 3s 312ms/step - loss: 1.6340e-05 - accuracy: 1.0000\n",
      "Epoch 92/100\n",
      "9/9 [==============================] - 3s 305ms/step - loss: 1.5837e-05 - accuracy: 1.0000\n",
      "Epoch 93/100\n",
      "9/9 [==============================] - 3s 305ms/step - loss: 1.5377e-05 - accuracy: 1.0000\n",
      "Epoch 94/100\n",
      "9/9 [==============================] - 3s 301ms/step - loss: 1.4925e-05 - accuracy: 1.0000\n",
      "Epoch 95/100\n",
      "9/9 [==============================] - 3s 306ms/step - loss: 1.4502e-05 - accuracy: 1.0000\n",
      "Epoch 96/100\n",
      "9/9 [==============================] - 3s 300ms/step - loss: 1.4078e-05 - accuracy: 1.0000\n",
      "Epoch 97/100\n",
      "9/9 [==============================] - 3s 302ms/step - loss: 1.3706e-05 - accuracy: 1.0000\n",
      "Epoch 98/100\n",
      "9/9 [==============================] - 3s 303ms/step - loss: 1.3311e-05 - accuracy: 1.0000\n",
      "Epoch 99/100\n",
      "9/9 [==============================] - 3s 303ms/step - loss: 1.2958e-05 - accuracy: 1.0000\n",
      "Epoch 100/100\n",
      "9/9 [==============================] - 3s 304ms/step - loss: 1.2589e-05 - accuracy: 1.0000\n"
     ]
    },
    {
     "data": {
      "text/plain": [
       "<keras.callbacks.History at 0x213655224f0>"
      ]
     },
     "execution_count": 13,
     "metadata": {},
     "output_type": "execute_result"
    }
   ],
   "source": [
    "ann.fit(X_train, y_train, batch_size = 50, epochs = 100)"
   ]
  },
  {
   "cell_type": "code",
   "execution_count": null,
   "id": "dff26bde",
   "metadata": {},
   "outputs": [],
   "source": []
  },
  {
   "cell_type": "code",
   "execution_count": 14,
   "id": "4c5621a4",
   "metadata": {},
   "outputs": [
    {
     "name": "stdout",
     "output_type": "stream",
     "text": [
      "5/5 [==============================] - 0s 30ms/step\n",
      "[[1 1]\n",
      " [1 1]\n",
      " [1 0]\n",
      " [1 1]\n",
      " [0 1]\n",
      " [1 0]\n",
      " [1 0]\n",
      " [1 1]\n",
      " [1 1]\n",
      " [1 0]\n",
      " [1 0]\n",
      " [0 0]\n",
      " [0 1]\n",
      " [1 0]\n",
      " [1 1]\n",
      " [0 0]\n",
      " [0 1]\n",
      " [0 1]\n",
      " [1 1]\n",
      " [1 1]\n",
      " [1 1]\n",
      " [0 1]\n",
      " [1 1]\n",
      " [1 1]\n",
      " [1 0]\n",
      " [1 1]\n",
      " [1 0]\n",
      " [1 1]\n",
      " [1 1]\n",
      " [1 1]\n",
      " [0 1]\n",
      " [1 1]\n",
      " [0 1]\n",
      " [1 0]\n",
      " [0 0]\n",
      " [1 1]\n",
      " [1 1]\n",
      " [1 0]\n",
      " [1 1]\n",
      " [1 0]\n",
      " [1 0]\n",
      " [1 1]\n",
      " [1 1]\n",
      " [1 1]\n",
      " [1 1]\n",
      " [1 0]\n",
      " [1 0]\n",
      " [1 1]\n",
      " [1 0]\n",
      " [1 1]\n",
      " [1 0]\n",
      " [1 1]\n",
      " [1 1]\n",
      " [0 1]\n",
      " [1 1]\n",
      " [1 1]\n",
      " [1 1]\n",
      " [1 1]\n",
      " [1 1]\n",
      " [1 0]\n",
      " [1 1]\n",
      " [1 1]\n",
      " [1 1]\n",
      " [1 1]\n",
      " [1 1]\n",
      " [0 0]\n",
      " [0 1]\n",
      " [0 0]\n",
      " [1 0]\n",
      " [0 1]\n",
      " [1 0]\n",
      " [1 0]\n",
      " [1 0]\n",
      " [1 1]\n",
      " [0 1]\n",
      " [0 1]\n",
      " [1 1]\n",
      " [0 1]\n",
      " [1 1]\n",
      " [1 1]\n",
      " [0 0]\n",
      " [1 1]\n",
      " [1 0]\n",
      " [1 1]\n",
      " [1 0]\n",
      " [1 0]\n",
      " [1 0]\n",
      " [1 1]\n",
      " [1 0]\n",
      " [1 1]\n",
      " [1 1]\n",
      " [1 1]\n",
      " [1 1]\n",
      " [0 0]\n",
      " [0 1]\n",
      " [0 1]\n",
      " [0 1]\n",
      " [1 0]\n",
      " [1 0]\n",
      " [0 1]\n",
      " [1 0]\n",
      " [0 1]\n",
      " [1 1]\n",
      " [1 1]\n",
      " [0 1]\n",
      " [0 1]\n",
      " [1 1]\n",
      " [1 1]\n",
      " [1 0]\n",
      " [1 0]\n",
      " [0 0]\n",
      " [1 1]\n",
      " [0 1]\n",
      " [1 1]\n",
      " [1 1]\n",
      " [1 1]\n",
      " [0 1]\n",
      " [1 1]\n",
      " [1 1]\n",
      " [1 1]\n",
      " [1 1]\n",
      " [1 1]\n",
      " [1 1]\n",
      " [1 0]\n",
      " [1 1]\n",
      " [1 1]\n",
      " [0 1]\n",
      " [1 1]\n",
      " [1 1]\n",
      " [1 1]\n",
      " [1 0]\n",
      " [0 1]\n",
      " [0 1]\n",
      " [1 1]\n",
      " [0 1]\n",
      " [0 0]\n",
      " [1 1]\n",
      " [1 1]\n",
      " [0 0]\n",
      " [1 0]\n",
      " [1 1]\n",
      " [0 1]\n",
      " [0 0]\n",
      " [0 1]\n",
      " [0 1]\n",
      " [0 0]\n",
      " [0 1]]\n"
     ]
    }
   ],
   "source": [
    "y_pred = ann.predict(X_test)\n",
    "y_pred = (y_pred > 0.5)\n",
    "print(np.concatenate((y_pred.reshape(len(y_pred),1), y_test.reshape(len(y_test),1)),1))"
   ]
  },
  {
   "cell_type": "code",
   "execution_count": 15,
   "id": "fa81c993",
   "metadata": {},
   "outputs": [
    {
     "name": "stdout",
     "output_type": "stream",
     "text": [
      "[[12 34]\n",
      " [30 71]]\n"
     ]
    },
    {
     "data": {
      "text/plain": [
       "0.564625850340136"
      ]
     },
     "execution_count": 15,
     "metadata": {},
     "output_type": "execute_result"
    }
   ],
   "source": [
    "from sklearn.metrics import confusion_matrix, accuracy_score\n",
    "cm = confusion_matrix(y_test, y_pred)\n",
    "print(cm)\n",
    "accuracy_score(y_test, y_pred)"
   ]
  },
  {
   "cell_type": "code",
   "execution_count": null,
   "id": "568cc4a4",
   "metadata": {},
   "outputs": [],
   "source": []
  },
  {
   "cell_type": "code",
   "execution_count": null,
   "id": "bd873a96",
   "metadata": {},
   "outputs": [],
   "source": []
  },
  {
   "cell_type": "code",
   "execution_count": null,
   "id": "0ca6b79a",
   "metadata": {},
   "outputs": [],
   "source": []
  }
 ],
 "metadata": {
  "kernelspec": {
   "display_name": "Python 3 (ipykernel)",
   "language": "python",
   "name": "python3"
  },
  "language_info": {
   "codemirror_mode": {
    "name": "ipython",
    "version": 3
   },
   "file_extension": ".py",
   "mimetype": "text/x-python",
   "name": "python",
   "nbconvert_exporter": "python",
   "pygments_lexer": "ipython3",
   "version": "3.9.13"
  }
 },
 "nbformat": 4,
 "nbformat_minor": 5
}
