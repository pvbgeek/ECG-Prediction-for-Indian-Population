{
 "cells": [
  {
   "cell_type": "code",
   "execution_count": 1,
   "id": "b345c27d",
   "metadata": {},
   "outputs": [
    {
     "name": "stdout",
     "output_type": "stream",
     "text": [
      "Done Boss !!\n"
     ]
    }
   ],
   "source": [
    "import numpy as np\n",
    "import pandas as pd\n",
    "print('Done Boss !!')"
   ]
  },
  {
   "cell_type": "code",
   "execution_count": 2,
   "id": "23a0b740",
   "metadata": {},
   "outputs": [
    {
     "name": "stdout",
     "output_type": "stream",
     "text": [
      "Done Boss !!\n"
     ]
    }
   ],
   "source": [
    "import tensorflow as tf\n",
    "print('Done Boss !!')"
   ]
  },
  {
   "cell_type": "code",
   "execution_count": 3,
   "id": "885d6d88",
   "metadata": {},
   "outputs": [
    {
     "name": "stdout",
     "output_type": "stream",
     "text": [
      "Done Boss !!\n"
     ]
    }
   ],
   "source": [
    "dataset = pd.read_csv('Lead-3.csv')\n",
    "X = dataset.iloc[:,:-1].values\n",
    "y = dataset.iloc[:, -1].values\n",
    "print('Done Boss !!')"
   ]
  },
  {
   "cell_type": "code",
   "execution_count": 4,
   "id": "d3c43eda",
   "metadata": {},
   "outputs": [
    {
     "name": "stdout",
     "output_type": "stream",
     "text": [
      "[[0.22       0.22666667 0.22       ... 0.26666667 0.26       0.26666667]\n",
      " [0.28571429 0.27857143 0.26428571 ... 0.22857143 0.22857143 0.2       ]\n",
      " [0.11926605 0.1146789  0.09174312 ... 0.07798165 0.0733945  0.06880734]\n",
      " ...\n",
      " [0.48275862 0.42528736 0.31034483 ... 0.35632184 0.40229885 0.35632184]\n",
      " [0.24038461 0.23076923 0.25       ... 0.19230769 0.16346154 0.19230769]\n",
      " [0.68817204 0.66666667 0.65949821 ... 0.65591398 0.62007168 0.62365591]]\n"
     ]
    }
   ],
   "source": [
    "print(X)"
   ]
  },
  {
   "cell_type": "code",
   "execution_count": 5,
   "id": "d84b0114",
   "metadata": {},
   "outputs": [
    {
     "name": "stdout",
     "output_type": "stream",
     "text": [
      "[1 1 1 1 0 0 1 1 1 1 1 1 1 0 1 1 1 0 1 1 1 1 1 0 1 0 1 1 0 1 0 0 1 0 1 1 1\n",
      " 0 1 0 1 0 1 0 1 1 0 0 0 1 1 1 1 1 1 0 0 1 0 0 0 0 0 0 1 1 1 1 1 0 1 1 1 1\n",
      " 0 0 1 0 1 1 1 1 1 1 0 1 1 1 0 1 1 0 1 1 1 1 1 1 1 1 1 0 0 1 1 1 1 0 1 1 1\n",
      " 1 1 0 1 0 1 0 1 1 0 0 1 1 1 1 0 0 1 1 1 1 0 1 0 0 0 1 0 0 0 0 1 0 1 1 0 0\n",
      " 1 1 0 1 0 1 1 1 0 0 1 1 1 1 0 0 1 1 1 0 1 1 0 1 1 0 1 0 0 1 1 1 0 0 0 1 1\n",
      " 1 1 0 1 1 1 1 0 1 1 1 0 0 1 1 1 1 1 1 1 1 1 1 0 1 1 0 1 0 1 1 1 1 0 0 1 0\n",
      " 0 1 1 0 1 1 0 1 1 1 1 0 1 0 1 0 0 1 1 1 0 1 0 0 1 1 0 0 1 1 1 1 1 1 1 1 1\n",
      " 1 1 1 1 1 1 0 1 1 1 1 1 1 0 1 1 1 0 0 0 1 1 1 0 0 0 0 1 0 0 1 0 1 0 1 1 0\n",
      " 1 1 1 1 0 1 1 0 1 0 0 1 1 0 1 1 0 1 1 0 1 1 1 0 1 1 0 0 1 0 1 0 1 1 1 1 1\n",
      " 0 1 1 1 1 1 0 1 1 1 1 1 1 0 1 1 1 0 0 1 1 1 0 1 0 0 1 1 0 1 1 0 1 1 0 1 0\n",
      " 1 1 1 1 0 1 1 1 1 1 0 1 0 0 1 1 1 1 0 0 0 0 0 0 1 0 0 1 1 1 0 0 1 1 1 1 1\n",
      " 1 0 1 1 1 0 1 0 1 1 1 1 0 1 0 0 1 1 1 1 1 1 1 1 0 1 1 0 0 1 1 1 1 0 1 0 0\n",
      " 0 1 1 1 1 1 1 0 1 0 1 1 0 1 0 0 0 1 0 0 0 1 1 1 1 0 1 0 0 1 1 1 1 1 1 1 1\n",
      " 1 0 1 0 1 0 1 0 1 0 1 1 1 1 0 1 1 1 1 0 1 0 1 1 1 1 1 1 0 0 1 1 1 1 0 1 1\n",
      " 0 1 1 1 1 1 1 1 1 0 0 1 1 0 1 0 0 0 1 1 1 1 1 1 1 0 0 1 1 0 0 1 1 1 1 0 1\n",
      " 0 1 1 0 1 0 1 1 1 1 1 0 0 0 1 1 0 0 0 1 0 0 0 1 0 0 1 1 0 1 1 1 1]\n"
     ]
    }
   ],
   "source": [
    "print(y)"
   ]
  },
  {
   "cell_type": "code",
   "execution_count": 6,
   "id": "d7f28ed6",
   "metadata": {},
   "outputs": [
    {
     "name": "stdout",
     "output_type": "stream",
     "text": [
      "Done Boss !!\n"
     ]
    }
   ],
   "source": [
    "from sklearn.model_selection import train_test_split\n",
    "X_train, X_test, y_train, y_test = train_test_split(X, y, test_size = 0.25, random_state = 0)\n",
    "print('Done Boss !!')"
   ]
  },
  {
   "cell_type": "code",
   "execution_count": 7,
   "id": "aafcb862",
   "metadata": {},
   "outputs": [
    {
     "name": "stdout",
     "output_type": "stream",
     "text": [
      "Done Boss !!\n"
     ]
    }
   ],
   "source": [
    "from sklearn.preprocessing import StandardScaler\n",
    "sc = StandardScaler()\n",
    "X_train = sc.fit_transform(X_train)\n",
    "X_test = sc.transform(X_test)\n",
    "print('Done Boss !!')"
   ]
  },
  {
   "cell_type": "code",
   "execution_count": 8,
   "id": "a72c220c",
   "metadata": {},
   "outputs": [],
   "source": [
    "ann = tf.keras.models.Sequential()"
   ]
  },
  {
   "cell_type": "code",
   "execution_count": 9,
   "id": "3fc1ff64",
   "metadata": {},
   "outputs": [],
   "source": [
    "ann.add(tf.keras.layers.Dense(units=3700, activation='relu'))"
   ]
  },
  {
   "cell_type": "code",
   "execution_count": 10,
   "id": "7fdbca05",
   "metadata": {},
   "outputs": [],
   "source": [
    "ann.add(tf.keras.layers.Dense(units=3700, activation='relu'))"
   ]
  },
  {
   "cell_type": "code",
   "execution_count": 11,
   "id": "0a9e247c",
   "metadata": {},
   "outputs": [],
   "source": [
    "ann.add(tf.keras.layers.Dense(units=1, activation='sigmoid'))"
   ]
  },
  {
   "cell_type": "code",
   "execution_count": 12,
   "id": "50e01b97",
   "metadata": {},
   "outputs": [],
   "source": [
    "ann.compile(optimizer = 'adam', loss = 'binary_crossentropy', metrics = ['accuracy'])"
   ]
  },
  {
   "cell_type": "code",
   "execution_count": 13,
   "id": "3061a88b",
   "metadata": {},
   "outputs": [
    {
     "name": "stdout",
     "output_type": "stream",
     "text": [
      "Epoch 1/100\n",
      "9/9 [==============================] - 5s 300ms/step - loss: 24.0894 - accuracy: 0.5669\n",
      "Epoch 2/100\n",
      "9/9 [==============================] - 3s 296ms/step - loss: 4.4418 - accuracy: 0.5578\n",
      "Epoch 3/100\n",
      "9/9 [==============================] - 3s 300ms/step - loss: 4.2340 - accuracy: 0.5760\n",
      "Epoch 4/100\n",
      "9/9 [==============================] - 3s 299ms/step - loss: 5.4563 - accuracy: 0.4649\n",
      "Epoch 5/100\n",
      "9/9 [==============================] - 3s 298ms/step - loss: 3.2962 - accuracy: 0.6508\n",
      "Epoch 6/100\n",
      "9/9 [==============================] - 3s 298ms/step - loss: 1.6527 - accuracy: 0.5283\n",
      "Epoch 7/100\n",
      "9/9 [==============================] - 3s 299ms/step - loss: 0.9638 - accuracy: 0.6281\n",
      "Epoch 8/100\n",
      "9/9 [==============================] - 3s 300ms/step - loss: 0.9278 - accuracy: 0.6485\n",
      "Epoch 9/100\n",
      "9/9 [==============================] - 3s 297ms/step - loss: 0.7135 - accuracy: 0.6848\n",
      "Epoch 10/100\n",
      "9/9 [==============================] - 3s 298ms/step - loss: 0.7230 - accuracy: 0.6825\n",
      "Epoch 11/100\n",
      "9/9 [==============================] - 3s 301ms/step - loss: 0.6584 - accuracy: 0.6576\n",
      "Epoch 12/100\n",
      "9/9 [==============================] - 3s 295ms/step - loss: 0.5228 - accuracy: 0.7347\n",
      "Epoch 13/100\n",
      "9/9 [==============================] - 3s 303ms/step - loss: 0.4603 - accuracy: 0.8231\n",
      "Epoch 14/100\n",
      "9/9 [==============================] - 3s 307ms/step - loss: 0.4197 - accuracy: 0.8639\n",
      "Epoch 15/100\n",
      "9/9 [==============================] - 3s 298ms/step - loss: 0.3489 - accuracy: 0.8866\n",
      "Epoch 16/100\n",
      "9/9 [==============================] - 3s 299ms/step - loss: 0.3011 - accuracy: 0.8980\n",
      "Epoch 17/100\n",
      "9/9 [==============================] - 3s 299ms/step - loss: 0.5209 - accuracy: 0.8322\n",
      "Epoch 18/100\n",
      "9/9 [==============================] - 3s 298ms/step - loss: 0.5730 - accuracy: 0.7846\n",
      "Epoch 19/100\n",
      "9/9 [==============================] - 3s 301ms/step - loss: 0.7291 - accuracy: 0.7823\n",
      "Epoch 20/100\n",
      "9/9 [==============================] - 3s 300ms/step - loss: 0.8515 - accuracy: 0.7506\n",
      "Epoch 21/100\n",
      "9/9 [==============================] - 3s 298ms/step - loss: 0.6480 - accuracy: 0.7846\n",
      "Epoch 22/100\n",
      "9/9 [==============================] - 3s 296ms/step - loss: 0.4868 - accuracy: 0.7868\n",
      "Epoch 23/100\n",
      "9/9 [==============================] - 3s 298ms/step - loss: 0.3302 - accuracy: 0.9002\n",
      "Epoch 24/100\n",
      "9/9 [==============================] - 3s 299ms/step - loss: 0.1833 - accuracy: 0.9728\n",
      "Epoch 25/100\n",
      "9/9 [==============================] - 3s 297ms/step - loss: 0.1442 - accuracy: 0.9819\n",
      "Epoch 26/100\n",
      "9/9 [==============================] - 3s 301ms/step - loss: 0.1157 - accuracy: 0.9887\n",
      "Epoch 27/100\n",
      "9/9 [==============================] - 3s 300ms/step - loss: 0.1571 - accuracy: 0.9456\n",
      "Epoch 28/100\n",
      "9/9 [==============================] - 3s 292ms/step - loss: 0.1641 - accuracy: 0.9297\n",
      "Epoch 29/100\n",
      "9/9 [==============================] - 3s 299ms/step - loss: 0.2600 - accuracy: 0.9093\n",
      "Epoch 30/100\n",
      "9/9 [==============================] - 3s 300ms/step - loss: 0.0774 - accuracy: 0.9796\n",
      "Epoch 31/100\n",
      "9/9 [==============================] - 3s 299ms/step - loss: 0.0473 - accuracy: 0.9977\n",
      "Epoch 32/100\n",
      "9/9 [==============================] - 3s 297ms/step - loss: 0.0381 - accuracy: 0.9955\n",
      "Epoch 33/100\n",
      "9/9 [==============================] - 3s 297ms/step - loss: 0.0200 - accuracy: 1.0000\n",
      "Epoch 34/100\n",
      "9/9 [==============================] - 3s 295ms/step - loss: 0.0145 - accuracy: 1.0000\n",
      "Epoch 35/100\n",
      "9/9 [==============================] - 3s 301ms/step - loss: 0.0129 - accuracy: 0.9977\n",
      "Epoch 36/100\n",
      "9/9 [==============================] - 3s 299ms/step - loss: 0.0130 - accuracy: 1.0000\n",
      "Epoch 37/100\n",
      "9/9 [==============================] - 3s 297ms/step - loss: 0.0089 - accuracy: 1.0000\n",
      "Epoch 38/100\n",
      "9/9 [==============================] - 3s 296ms/step - loss: 0.0042 - accuracy: 1.0000\n",
      "Epoch 39/100\n",
      "9/9 [==============================] - 3s 296ms/step - loss: 0.0032 - accuracy: 1.0000\n",
      "Epoch 40/100\n",
      "9/9 [==============================] - 3s 298ms/step - loss: 0.0026 - accuracy: 1.0000\n",
      "Epoch 41/100\n",
      "9/9 [==============================] - 3s 298ms/step - loss: 0.0023 - accuracy: 1.0000\n",
      "Epoch 42/100\n",
      "9/9 [==============================] - 3s 297ms/step - loss: 0.0020 - accuracy: 1.0000\n",
      "Epoch 43/100\n",
      "9/9 [==============================] - 3s 297ms/step - loss: 0.0017 - accuracy: 1.0000\n",
      "Epoch 44/100\n",
      "9/9 [==============================] - 3s 310ms/step - loss: 0.0015 - accuracy: 1.0000\n",
      "Epoch 45/100\n",
      "9/9 [==============================] - 3s 301ms/step - loss: 0.0014 - accuracy: 1.0000\n",
      "Epoch 46/100\n",
      "9/9 [==============================] - 3s 298ms/step - loss: 0.0012 - accuracy: 1.0000\n",
      "Epoch 47/100\n",
      "9/9 [==============================] - 3s 298ms/step - loss: 0.0011 - accuracy: 1.0000\n",
      "Epoch 48/100\n",
      "9/9 [==============================] - 3s 297ms/step - loss: 0.0010 - accuracy: 1.0000\n",
      "Epoch 49/100\n",
      "9/9 [==============================] - 3s 298ms/step - loss: 8.9874e-04 - accuracy: 1.0000\n",
      "Epoch 50/100\n",
      "9/9 [==============================] - 3s 297ms/step - loss: 8.3522e-04 - accuracy: 1.0000\n",
      "Epoch 51/100\n",
      "9/9 [==============================] - 3s 299ms/step - loss: 7.3070e-04 - accuracy: 1.0000\n",
      "Epoch 52/100\n",
      "9/9 [==============================] - 3s 320ms/step - loss: 6.6946e-04 - accuracy: 1.0000\n",
      "Epoch 53/100\n",
      "9/9 [==============================] - 3s 309ms/step - loss: 5.8906e-04 - accuracy: 1.0000\n",
      "Epoch 54/100\n",
      "9/9 [==============================] - 3s 320ms/step - loss: 5.5179e-04 - accuracy: 1.0000\n",
      "Epoch 55/100\n",
      "9/9 [==============================] - 3s 310ms/step - loss: 5.0154e-04 - accuracy: 1.0000\n",
      "Epoch 56/100\n",
      "9/9 [==============================] - 3s 299ms/step - loss: 4.6282e-04 - accuracy: 1.0000\n",
      "Epoch 57/100\n",
      "9/9 [==============================] - 3s 299ms/step - loss: 4.3063e-04 - accuracy: 1.0000\n",
      "Epoch 58/100\n",
      "9/9 [==============================] - 3s 298ms/step - loss: 3.9983e-04 - accuracy: 1.0000\n",
      "Epoch 59/100\n",
      "9/9 [==============================] - 3s 297ms/step - loss: 3.7437e-04 - accuracy: 1.0000\n",
      "Epoch 60/100\n",
      "9/9 [==============================] - 3s 312ms/step - loss: 3.4961e-04 - accuracy: 1.0000\n",
      "Epoch 61/100\n",
      "9/9 [==============================] - 3s 299ms/step - loss: 3.3603e-04 - accuracy: 1.0000\n",
      "Epoch 62/100\n",
      "9/9 [==============================] - 3s 297ms/step - loss: 3.1714e-04 - accuracy: 1.0000\n",
      "Epoch 63/100\n",
      "9/9 [==============================] - 3s 313ms/step - loss: 2.9194e-04 - accuracy: 1.0000\n",
      "Epoch 64/100\n",
      "9/9 [==============================] - 3s 298ms/step - loss: 2.7516e-04 - accuracy: 1.0000\n",
      "Epoch 65/100\n",
      "9/9 [==============================] - 3s 296ms/step - loss: 2.6088e-04 - accuracy: 1.0000\n",
      "Epoch 66/100\n",
      "9/9 [==============================] - 3s 302ms/step - loss: 2.4228e-04 - accuracy: 1.0000\n",
      "Epoch 67/100\n",
      "9/9 [==============================] - 3s 297ms/step - loss: 2.3104e-04 - accuracy: 1.0000\n",
      "Epoch 68/100\n",
      "9/9 [==============================] - 3s 298ms/step - loss: 2.1831e-04 - accuracy: 1.0000\n",
      "Epoch 69/100\n",
      "9/9 [==============================] - 3s 300ms/step - loss: 2.0955e-04 - accuracy: 1.0000\n",
      "Epoch 70/100\n",
      "9/9 [==============================] - 3s 304ms/step - loss: 1.9821e-04 - accuracy: 1.0000\n",
      "Epoch 71/100\n",
      "9/9 [==============================] - 3s 306ms/step - loss: 1.9543e-04 - accuracy: 1.0000\n",
      "Epoch 72/100\n",
      "9/9 [==============================] - 3s 300ms/step - loss: 1.7970e-04 - accuracy: 1.0000\n",
      "Epoch 73/100\n",
      "9/9 [==============================] - 3s 299ms/step - loss: 1.7310e-04 - accuracy: 1.0000\n",
      "Epoch 74/100\n",
      "9/9 [==============================] - 3s 299ms/step - loss: 1.6495e-04 - accuracy: 1.0000\n",
      "Epoch 75/100\n",
      "9/9 [==============================] - 3s 299ms/step - loss: 1.5757e-04 - accuracy: 1.0000\n",
      "Epoch 76/100\n",
      "9/9 [==============================] - 3s 301ms/step - loss: 1.5092e-04 - accuracy: 1.0000\n",
      "Epoch 77/100\n",
      "9/9 [==============================] - 3s 301ms/step - loss: 1.4471e-04 - accuracy: 1.0000\n",
      "Epoch 78/100\n",
      "9/9 [==============================] - 3s 300ms/step - loss: 1.3965e-04 - accuracy: 1.0000\n",
      "Epoch 79/100\n",
      "9/9 [==============================] - 3s 301ms/step - loss: 1.3389e-04 - accuracy: 1.0000\n",
      "Epoch 80/100\n",
      "9/9 [==============================] - 3s 299ms/step - loss: 1.2965e-04 - accuracy: 1.0000\n",
      "Epoch 81/100\n"
     ]
    },
    {
     "name": "stdout",
     "output_type": "stream",
     "text": [
      "9/9 [==============================] - 3s 299ms/step - loss: 1.2413e-04 - accuracy: 1.0000\n",
      "Epoch 82/100\n",
      "9/9 [==============================] - 3s 299ms/step - loss: 1.1938e-04 - accuracy: 1.0000\n",
      "Epoch 83/100\n",
      "9/9 [==============================] - 3s 300ms/step - loss: 1.1554e-04 - accuracy: 1.0000\n",
      "Epoch 84/100\n",
      "9/9 [==============================] - 3s 298ms/step - loss: 1.1173e-04 - accuracy: 1.0000\n",
      "Epoch 85/100\n",
      "9/9 [==============================] - 3s 308ms/step - loss: 1.0704e-04 - accuracy: 1.0000\n",
      "Epoch 86/100\n",
      "9/9 [==============================] - 3s 303ms/step - loss: 1.0394e-04 - accuracy: 1.0000\n",
      "Epoch 87/100\n",
      "9/9 [==============================] - 3s 299ms/step - loss: 1.0012e-04 - accuracy: 1.0000\n",
      "Epoch 88/100\n",
      "9/9 [==============================] - 3s 299ms/step - loss: 9.7413e-05 - accuracy: 1.0000\n",
      "Epoch 89/100\n",
      "9/9 [==============================] - 3s 301ms/step - loss: 9.3819e-05 - accuracy: 1.0000\n",
      "Epoch 90/100\n",
      "9/9 [==============================] - 3s 296ms/step - loss: 9.0507e-05 - accuracy: 1.0000\n",
      "Epoch 91/100\n",
      "9/9 [==============================] - 3s 302ms/step - loss: 8.8103e-05 - accuracy: 1.0000\n",
      "Epoch 92/100\n",
      "9/9 [==============================] - 3s 303ms/step - loss: 8.5103e-05 - accuracy: 1.0000\n",
      "Epoch 93/100\n",
      "9/9 [==============================] - 3s 299ms/step - loss: 8.2605e-05 - accuracy: 1.0000\n",
      "Epoch 94/100\n",
      "9/9 [==============================] - 3s 300ms/step - loss: 8.0319e-05 - accuracy: 1.0000\n",
      "Epoch 95/100\n",
      "9/9 [==============================] - 3s 303ms/step - loss: 7.8350e-05 - accuracy: 1.0000\n",
      "Epoch 96/100\n",
      "9/9 [==============================] - 3s 310ms/step - loss: 7.5419e-05 - accuracy: 1.0000\n",
      "Epoch 97/100\n",
      "9/9 [==============================] - 3s 311ms/step - loss: 7.3321e-05 - accuracy: 1.0000\n",
      "Epoch 98/100\n",
      "9/9 [==============================] - 3s 301ms/step - loss: 7.1501e-05 - accuracy: 1.0000\n",
      "Epoch 99/100\n",
      "9/9 [==============================] - 3s 303ms/step - loss: 6.9575e-05 - accuracy: 1.0000\n",
      "Epoch 100/100\n",
      "9/9 [==============================] - 3s 312ms/step - loss: 6.7404e-05 - accuracy: 1.0000\n"
     ]
    },
    {
     "data": {
      "text/plain": [
       "<keras.callbacks.History at 0x21a2ff73970>"
      ]
     },
     "execution_count": 13,
     "metadata": {},
     "output_type": "execute_result"
    }
   ],
   "source": [
    "ann.fit(X_train, y_train, batch_size = 50, epochs = 100)"
   ]
  },
  {
   "cell_type": "code",
   "execution_count": null,
   "id": "dff26bde",
   "metadata": {},
   "outputs": [],
   "source": []
  },
  {
   "cell_type": "code",
   "execution_count": 15,
   "id": "4c5621a4",
   "metadata": {},
   "outputs": [
    {
     "name": "stdout",
     "output_type": "stream",
     "text": [
      "5/5 [==============================] - 0s 31ms/step\n",
      "[[0 1]\n",
      " [1 1]\n",
      " [1 0]\n",
      " [1 1]\n",
      " [0 1]\n",
      " [0 0]\n",
      " [0 0]\n",
      " [1 1]\n",
      " [1 1]\n",
      " [0 0]\n",
      " [0 0]\n",
      " [1 0]\n",
      " [1 1]\n",
      " [0 0]\n",
      " [1 1]\n",
      " [0 0]\n",
      " [1 1]\n",
      " [1 1]\n",
      " [1 1]\n",
      " [1 1]\n",
      " [1 1]\n",
      " [1 1]\n",
      " [0 1]\n",
      " [0 1]\n",
      " [0 0]\n",
      " [0 1]\n",
      " [1 0]\n",
      " [1 1]\n",
      " [1 1]\n",
      " [1 1]\n",
      " [1 1]\n",
      " [1 1]\n",
      " [0 1]\n",
      " [0 0]\n",
      " [1 0]\n",
      " [1 1]\n",
      " [1 1]\n",
      " [0 0]\n",
      " [0 1]\n",
      " [0 0]\n",
      " [1 0]\n",
      " [1 1]\n",
      " [1 1]\n",
      " [1 1]\n",
      " [1 1]\n",
      " [1 0]\n",
      " [1 0]\n",
      " [1 1]\n",
      " [1 0]\n",
      " [1 1]\n",
      " [0 0]\n",
      " [1 1]\n",
      " [1 1]\n",
      " [0 1]\n",
      " [1 1]\n",
      " [1 1]\n",
      " [1 1]\n",
      " [1 1]\n",
      " [1 1]\n",
      " [1 0]\n",
      " [1 1]\n",
      " [1 1]\n",
      " [1 1]\n",
      " [1 1]\n",
      " [1 1]\n",
      " [0 0]\n",
      " [1 1]\n",
      " [1 0]\n",
      " [0 0]\n",
      " [0 1]\n",
      " [0 0]\n",
      " [1 0]\n",
      " [1 0]\n",
      " [0 1]\n",
      " [0 1]\n",
      " [0 1]\n",
      " [0 1]\n",
      " [1 1]\n",
      " [0 1]\n",
      " [1 1]\n",
      " [1 0]\n",
      " [1 1]\n",
      " [1 0]\n",
      " [1 1]\n",
      " [1 0]\n",
      " [0 0]\n",
      " [1 0]\n",
      " [0 1]\n",
      " [1 0]\n",
      " [1 1]\n",
      " [1 1]\n",
      " [1 1]\n",
      " [1 1]\n",
      " [0 0]\n",
      " [1 1]\n",
      " [0 1]\n",
      " [0 1]\n",
      " [1 0]\n",
      " [0 0]\n",
      " [0 1]\n",
      " [1 0]\n",
      " [1 1]\n",
      " [1 1]\n",
      " [1 1]\n",
      " [0 1]\n",
      " [0 1]\n",
      " [1 1]\n",
      " [0 1]\n",
      " [1 0]\n",
      " [0 0]\n",
      " [1 0]\n",
      " [0 1]\n",
      " [0 1]\n",
      " [0 1]\n",
      " [1 1]\n",
      " [1 1]\n",
      " [0 1]\n",
      " [1 1]\n",
      " [1 1]\n",
      " [1 1]\n",
      " [1 1]\n",
      " [1 1]\n",
      " [1 1]\n",
      " [0 0]\n",
      " [1 1]\n",
      " [1 1]\n",
      " [1 1]\n",
      " [0 1]\n",
      " [1 1]\n",
      " [0 1]\n",
      " [0 0]\n",
      " [1 1]\n",
      " [0 1]\n",
      " [0 1]\n",
      " [1 1]\n",
      " [0 0]\n",
      " [0 1]\n",
      " [1 1]\n",
      " [0 0]\n",
      " [1 0]\n",
      " [1 1]\n",
      " [1 1]\n",
      " [1 0]\n",
      " [0 1]\n",
      " [1 1]\n",
      " [1 0]\n",
      " [1 1]]\n"
     ]
    }
   ],
   "source": [
    "y_pred = ann.predict(X_test)\n",
    "y_pred = (y_pred > 0.5)\n",
    "print(np.concatenate((y_pred.reshape(len(y_pred),1), y_test.reshape(len(y_test),1)),1))"
   ]
  },
  {
   "cell_type": "code",
   "execution_count": 16,
   "id": "fa81c993",
   "metadata": {},
   "outputs": [
    {
     "name": "stdout",
     "output_type": "stream",
     "text": [
      "[[22 24]\n",
      " [31 70]]\n"
     ]
    },
    {
     "data": {
      "text/plain": [
       "0.6258503401360545"
      ]
     },
     "execution_count": 16,
     "metadata": {},
     "output_type": "execute_result"
    }
   ],
   "source": [
    "from sklearn.metrics import confusion_matrix, accuracy_score\n",
    "cm = confusion_matrix(y_test, y_pred)\n",
    "print(cm)\n",
    "accuracy_score(y_test, y_pred)"
   ]
  },
  {
   "cell_type": "code",
   "execution_count": null,
   "id": "568cc4a4",
   "metadata": {},
   "outputs": [],
   "source": []
  },
  {
   "cell_type": "code",
   "execution_count": null,
   "id": "bd873a96",
   "metadata": {},
   "outputs": [],
   "source": []
  },
  {
   "cell_type": "code",
   "execution_count": null,
   "id": "0ca6b79a",
   "metadata": {},
   "outputs": [],
   "source": []
  }
 ],
 "metadata": {
  "kernelspec": {
   "display_name": "Python 3 (ipykernel)",
   "language": "python",
   "name": "python3"
  },
  "language_info": {
   "codemirror_mode": {
    "name": "ipython",
    "version": 3
   },
   "file_extension": ".py",
   "mimetype": "text/x-python",
   "name": "python",
   "nbconvert_exporter": "python",
   "pygments_lexer": "ipython3",
   "version": "3.9.13"
  }
 },
 "nbformat": 4,
 "nbformat_minor": 5
}
